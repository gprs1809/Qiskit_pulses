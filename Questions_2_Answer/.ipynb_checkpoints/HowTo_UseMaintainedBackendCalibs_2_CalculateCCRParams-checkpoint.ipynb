{
 "cells": [
  {
   "cell_type": "markdown",
   "metadata": {},
   "source": [
    "# How to use the backend calibrations maintained by IBM to calculate the Cross Cross Resonance pulse parameters"
   ]
  },
  {
   "cell_type": "markdown",
   "metadata": {},
   "source": [
    "## 1.  Collection of Provided Values"
   ]
  },
  {
   "cell_type": "code",
   "execution_count": 58,
   "metadata": {},
   "outputs": [
    {
     "name": "stdout",
     "output_type": "stream",
     "text": [
      "Index(['Qubit', 'T1 (us)', 'T2 (us)', 'Frequency (GHz)', 'Anharmonicity (GHz)',\n",
      "       'Readout assignment error ', 'Prob meas0 prep1 ', 'Prob meas1 prep0 ',\n",
      "       'Readout length (ns)', 'ID error ', '√x (sx) error ',\n",
      "       'Single-qubit Pauli-X error ', 'CNOT error ', 'Gate time (ns)'],\n",
      "      dtype='object')\n"
     ]
    },
    {
     "data": {
      "text/html": [
       "<div>\n",
       "<style scoped>\n",
       "    .dataframe tbody tr th:only-of-type {\n",
       "        vertical-align: middle;\n",
       "    }\n",
       "\n",
       "    .dataframe tbody tr th {\n",
       "        vertical-align: top;\n",
       "    }\n",
       "\n",
       "    .dataframe thead th {\n",
       "        text-align: right;\n",
       "    }\n",
       "</style>\n",
       "<table border=\"1\" class=\"dataframe\">\n",
       "  <thead>\n",
       "    <tr style=\"text-align: right;\">\n",
       "      <th></th>\n",
       "      <th>Qubit</th>\n",
       "      <th>T1 (us)</th>\n",
       "      <th>T2 (us)</th>\n",
       "      <th>Frequency (GHz)</th>\n",
       "      <th>Anharmonicity (GHz)</th>\n",
       "      <th>Readout assignment error</th>\n",
       "      <th>Prob meas0 prep1</th>\n",
       "      <th>Prob meas1 prep0</th>\n",
       "      <th>Readout length (ns)</th>\n",
       "      <th>ID error</th>\n",
       "      <th>√x (sx) error</th>\n",
       "      <th>Single-qubit Pauli-X error</th>\n",
       "      <th>CNOT error</th>\n",
       "      <th>Gate time (ns)</th>\n",
       "    </tr>\n",
       "  </thead>\n",
       "  <tbody>\n",
       "    <tr>\n",
       "      <th>0</th>\n",
       "      <td>Q0</td>\n",
       "      <td>98.23</td>\n",
       "      <td>57.33</td>\n",
       "      <td>4.822</td>\n",
       "      <td>-0.33990</td>\n",
       "      <td>0.0398</td>\n",
       "      <td>0.0560</td>\n",
       "      <td>0.0236</td>\n",
       "      <td>5351.111</td>\n",
       "      <td>0.000272</td>\n",
       "      <td>0.000272</td>\n",
       "      <td>0.000272</td>\n",
       "      <td>0_1:7.774e-3</td>\n",
       "      <td>0_1:497.778</td>\n",
       "    </tr>\n",
       "    <tr>\n",
       "      <th>1</th>\n",
       "      <td>Q1</td>\n",
       "      <td>125.07</td>\n",
       "      <td>125.85</td>\n",
       "      <td>4.760</td>\n",
       "      <td>-0.32644</td>\n",
       "      <td>0.0143</td>\n",
       "      <td>0.0162</td>\n",
       "      <td>0.0124</td>\n",
       "      <td>5351.111</td>\n",
       "      <td>0.000182</td>\n",
       "      <td>0.000182</td>\n",
       "      <td>0.000182</td>\n",
       "      <td>1_3:5.189e-3; 1_0:7.774e-3; 1_2:1.296e-2</td>\n",
       "      <td>1_3:355.556; 1_0:462.222; 1_2:398.222</td>\n",
       "    </tr>\n",
       "    <tr>\n",
       "      <th>2</th>\n",
       "      <td>Q2</td>\n",
       "      <td>107.36</td>\n",
       "      <td>131.63</td>\n",
       "      <td>4.907</td>\n",
       "      <td>-0.33862</td>\n",
       "      <td>0.0167</td>\n",
       "      <td>0.0186</td>\n",
       "      <td>0.0148</td>\n",
       "      <td>5351.111</td>\n",
       "      <td>0.002543</td>\n",
       "      <td>0.002543</td>\n",
       "      <td>0.002543</td>\n",
       "      <td>2_1:1.296e-2</td>\n",
       "      <td>2_1:433.778</td>\n",
       "    </tr>\n",
       "    <tr>\n",
       "      <th>3</th>\n",
       "      <td>Q3</td>\n",
       "      <td>93.69</td>\n",
       "      <td>156.47</td>\n",
       "      <td>4.879</td>\n",
       "      <td>-0.33864</td>\n",
       "      <td>0.0179</td>\n",
       "      <td>0.0282</td>\n",
       "      <td>0.0076</td>\n",
       "      <td>5351.111</td>\n",
       "      <td>0.000195</td>\n",
       "      <td>0.000195</td>\n",
       "      <td>0.000195</td>\n",
       "      <td>3_5:7.657e-3; 3_1:5.189e-3</td>\n",
       "      <td>3_5:433.778; 3_1:320</td>\n",
       "    </tr>\n",
       "    <tr>\n",
       "      <th>4</th>\n",
       "      <td>Q4</td>\n",
       "      <td>123.99</td>\n",
       "      <td>52.08</td>\n",
       "      <td>4.871</td>\n",
       "      <td>-0.33889</td>\n",
       "      <td>0.0242</td>\n",
       "      <td>0.0342</td>\n",
       "      <td>0.0142</td>\n",
       "      <td>5351.111</td>\n",
       "      <td>0.000316</td>\n",
       "      <td>0.000316</td>\n",
       "      <td>0.000316</td>\n",
       "      <td>4_5:7.640e-3</td>\n",
       "      <td>4_5:398.222</td>\n",
       "    </tr>\n",
       "    <tr>\n",
       "      <th>5</th>\n",
       "      <td>Q5</td>\n",
       "      <td>59.04</td>\n",
       "      <td>10.46</td>\n",
       "      <td>4.964</td>\n",
       "      <td>-0.32184</td>\n",
       "      <td>0.0189</td>\n",
       "      <td>0.0298</td>\n",
       "      <td>0.0080</td>\n",
       "      <td>5351.111</td>\n",
       "      <td>0.000341</td>\n",
       "      <td>0.000341</td>\n",
       "      <td>0.000341</td>\n",
       "      <td>5_6:1.522e-2; 5_4:7.640e-3; 5_3:7.657e-3</td>\n",
       "      <td>5_6:341.333; 5_4:362.667; 5_3:398.222</td>\n",
       "    </tr>\n",
       "    <tr>\n",
       "      <th>6</th>\n",
       "      <td>Q6</td>\n",
       "      <td>102.03</td>\n",
       "      <td>142.38</td>\n",
       "      <td>5.177</td>\n",
       "      <td>-0.33499</td>\n",
       "      <td>0.0184</td>\n",
       "      <td>0.0276</td>\n",
       "      <td>0.0092</td>\n",
       "      <td>5351.111</td>\n",
       "      <td>0.000222</td>\n",
       "      <td>0.000222</td>\n",
       "      <td>0.000222</td>\n",
       "      <td>6_5:1.522e-2</td>\n",
       "      <td>6_5:305.778</td>\n",
       "    </tr>\n",
       "  </tbody>\n",
       "</table>\n",
       "</div>"
      ],
      "text/plain": [
       "  Qubit  T1 (us)  T2 (us)  Frequency (GHz)  Anharmonicity (GHz)  \\\n",
       "0    Q0    98.23    57.33            4.822             -0.33990   \n",
       "1    Q1   125.07   125.85            4.760             -0.32644   \n",
       "2    Q2   107.36   131.63            4.907             -0.33862   \n",
       "3    Q3    93.69   156.47            4.879             -0.33864   \n",
       "4    Q4   123.99    52.08            4.871             -0.33889   \n",
       "5    Q5    59.04    10.46            4.964             -0.32184   \n",
       "6    Q6   102.03   142.38            5.177             -0.33499   \n",
       "\n",
       "   Readout assignment error   Prob meas0 prep1   Prob meas1 prep0   \\\n",
       "0                     0.0398             0.0560             0.0236   \n",
       "1                     0.0143             0.0162             0.0124   \n",
       "2                     0.0167             0.0186             0.0148   \n",
       "3                     0.0179             0.0282             0.0076   \n",
       "4                     0.0242             0.0342             0.0142   \n",
       "5                     0.0189             0.0298             0.0080   \n",
       "6                     0.0184             0.0276             0.0092   \n",
       "\n",
       "   Readout length (ns)  ID error   √x (sx) error   \\\n",
       "0             5351.111   0.000272        0.000272   \n",
       "1             5351.111   0.000182        0.000182   \n",
       "2             5351.111   0.002543        0.002543   \n",
       "3             5351.111   0.000195        0.000195   \n",
       "4             5351.111   0.000316        0.000316   \n",
       "5             5351.111   0.000341        0.000341   \n",
       "6             5351.111   0.000222        0.000222   \n",
       "\n",
       "   Single-qubit Pauli-X error                                CNOT error   \\\n",
       "0                     0.000272                              0_1:7.774e-3   \n",
       "1                     0.000182  1_3:5.189e-3; 1_0:7.774e-3; 1_2:1.296e-2   \n",
       "2                     0.002543                              2_1:1.296e-2   \n",
       "3                     0.000195                3_5:7.657e-3; 3_1:5.189e-3   \n",
       "4                     0.000316                              4_5:7.640e-3   \n",
       "5                     0.000341  5_6:1.522e-2; 5_4:7.640e-3; 5_3:7.657e-3   \n",
       "6                     0.000222                              6_5:1.522e-2   \n",
       "\n",
       "                          Gate time (ns)  \n",
       "0                            0_1:497.778  \n",
       "1  1_3:355.556; 1_0:462.222; 1_2:398.222  \n",
       "2                            2_1:433.778  \n",
       "3                   3_5:433.778; 3_1:320  \n",
       "4                            4_5:398.222  \n",
       "5  5_6:341.333; 5_4:362.667; 5_3:398.222  \n",
       "6                            6_5:305.778  "
      ]
     },
     "execution_count": 58,
     "metadata": {},
     "output_type": "execute_result"
    }
   ],
   "source": [
    "import pandas as pd\n",
    "import os\n",
    "csv_path = os.getcwd() + \"\\\\ibmq_casablanca_calibrations_2021_04_06.csv\"\n",
    "df = pd.read_csv(csv_path)\n",
    "print(df.columns)\n",
    "df"
   ]
  },
  {
   "cell_type": "code",
   "execution_count": 59,
   "metadata": {},
   "outputs": [
    {
     "name": "stderr",
     "output_type": "stream",
     "text": [
      "C:\\ProgramData\\Anaconda3\\envs\\walter\\lib\\site-packages\\qiskit\\providers\\ibmq\\ibmqfactory.py:192: UserWarning: Timestamps in IBMQ backend properties, jobs, and job results are all now in local time instead of UTC.\n",
      "  warnings.warn('Timestamps in IBMQ backend properties, jobs, and job results '\n",
      "ibmqfactory.load_account:WARNING:2021-04-06 18:03:26,006: Credentials are already in use. The existing account in the session will be replaced.\n"
     ]
    },
    {
     "name": "stdout",
     "output_type": "stream",
     "text": [
      "<PulseDefaults(<InstructionScheduleMap(1Q instructions:\n",
      "  q0: {'rz', 'u1', 'sx', 'x', 'id', 'u3', 'measure', 'u2'}\n",
      "  q1: {'rz', 'u1', 'sx', 'x', 'id', 'u3', 'measure', 'u2'}\n",
      "  q2: {'rz', 'u1', 'sx', 'x', 'id', 'u3', 'measure', 'u2'}\n",
      "  q3: {'rz', 'u1', 'sx', 'x', 'id', 'u3', 'measure', 'u2'}\n",
      "  q4: {'rz', 'u1', 'sx', 'x', 'id', 'u3', 'measure', 'u2'}\n",
      "  q5: {'rz', 'u1', 'sx', 'x', 'id', 'u3', 'measure', 'u2'}\n",
      "  q6: {'rz', 'u1', 'sx', 'x', 'id', 'u3', 'measure', 'u2'}\n",
      "Multi qubit instructions:\n",
      "  (0, 1): {'cx'}\n",
      "  (1, 0): {'cx'}\n",
      "  (1, 2): {'cx'}\n",
      "  (1, 3): {'cx'}\n",
      "  (2, 1): {'cx'}\n",
      "  (3, 1): {'cx'}\n",
      "  (3, 5): {'cx'}\n",
      "  (4, 5): {'cx'}\n",
      "  (5, 3): {'cx'}\n",
      "  (5, 4): {'cx'}\n",
      "  (5, 6): {'cx'}\n",
      "  (6, 5): {'cx'}\n",
      "  (0, 1, 2, 3, 4, 5, 6): {'measure'}\n",
      ")>Qubit Frequencies [GHz]\n",
      "[4.8220678240062105, 4.759858136331707, 4.907299973647209, 4.878972802917337, 4.870905406405776, 4.963897856016808, 5.177097674634709]\n",
      "Measurement Frequencies [GHz]\n",
      "[7.284054663, 7.385438514, 7.32318003, 7.230756417, 7.280310863, 7.146993373, 7.400652534] )>\n"
     ]
    }
   ],
   "source": [
    "from qiskit import pulse\n",
    "import numpy as np\n",
    "import matplotlib.pyplot as plt\n",
    "from qiskit.pulse import Play, Schedule, DriveChannel, ControlChannel, Waveform\n",
    "from qiskit.pulse.library import drag, GaussianSquare\n",
    "from qiskit import QuantumCircuit, Aer, IBMQ\n",
    "\n",
    "IBMQ.load_account()\n",
    "provider = IBMQ.get_provider(hub='ibm-q-community', group='ibmquantumawards', project='open-science')\n",
    "backend = provider.get_backend('ibmq_casablanca')\n",
    "\n",
    "backend_config = backend.configuration()\n",
    "backend_defaults = backend.defaults()\n",
    "\n",
    "print(backend_defaults)"
   ]
  },
  {
   "cell_type": "code",
   "execution_count": 60,
   "metadata": {},
   "outputs": [
    {
     "name": "stdout",
     "output_type": "stream",
     "text": [
      "Sampling time: 0.2222222222222222 ns\n"
     ]
    }
   ],
   "source": [
    "dt = backend_config.dt\n",
    "print(f\"Sampling time: {dt*1e9} ns\") "
   ]
  },
  {
   "cell_type": "code",
   "execution_count": 61,
   "metadata": {},
   "outputs": [
    {
     "name": "stdout",
     "output_type": "stream",
     "text": [
      "[GateConfig(id, [], gate id q { U(0, 0, 0) q; }, [[0], [1], [2], [3], [4], [5], [6]]), GateConfig(rz, ['theta'], gate rz(theta) q { U(0, 0, theta) q; }, [[0], [1], [2], [3], [4], [5], [6]]), GateConfig(sx, [], gate sx q { U(pi/2, 3*pi/2, pi/2) q; }, [[0], [1], [2], [3], [4], [5], [6]]), GateConfig(x, [], gate x q { U(pi, 0, pi) q; }, [[0], [1], [2], [3], [4], [5], [6]]), GateConfig(cx, [], gate cx q0, q1 { CX q0, q1; }, [[0, 1], [1, 0], [1, 2], [1, 3], [2, 1], [3, 1], [3, 5], [4, 5], [5, 3], [5, 4], [5, 6], [6, 5]]), GateConfig(reset, None, None)]\n"
     ]
    }
   ],
   "source": [
    "gates_config = backend_config.gates \n",
    "print(gates_config )"
   ]
  },
  {
   "cell_type": "code",
   "execution_count": 62,
   "metadata": {},
   "outputs": [
    {
     "name": "stdout",
     "output_type": "stream",
     "text": [
      "{'acquire0': {'operates': {'qubits': [0]}, 'purpose': 'acquire', 'type': 'acquire'}, 'acquire1': {'operates': {'qubits': [1]}, 'purpose': 'acquire', 'type': 'acquire'}, 'acquire2': {'operates': {'qubits': [2]}, 'purpose': 'acquire', 'type': 'acquire'}, 'acquire3': {'operates': {'qubits': [3]}, 'purpose': 'acquire', 'type': 'acquire'}, 'acquire4': {'operates': {'qubits': [4]}, 'purpose': 'acquire', 'type': 'acquire'}, 'acquire5': {'operates': {'qubits': [5]}, 'purpose': 'acquire', 'type': 'acquire'}, 'acquire6': {'operates': {'qubits': [6]}, 'purpose': 'acquire', 'type': 'acquire'}, 'd0': {'operates': {'qubits': [0]}, 'purpose': 'drive', 'type': 'drive'}, 'd1': {'operates': {'qubits': [1]}, 'purpose': 'drive', 'type': 'drive'}, 'd2': {'operates': {'qubits': [2]}, 'purpose': 'drive', 'type': 'drive'}, 'd3': {'operates': {'qubits': [3]}, 'purpose': 'drive', 'type': 'drive'}, 'd4': {'operates': {'qubits': [4]}, 'purpose': 'drive', 'type': 'drive'}, 'd5': {'operates': {'qubits': [5]}, 'purpose': 'drive', 'type': 'drive'}, 'd6': {'operates': {'qubits': [6]}, 'purpose': 'drive', 'type': 'drive'}, 'm0': {'operates': {'qubits': [0]}, 'purpose': 'measure', 'type': 'measure'}, 'm1': {'operates': {'qubits': [1]}, 'purpose': 'measure', 'type': 'measure'}, 'm2': {'operates': {'qubits': [2]}, 'purpose': 'measure', 'type': 'measure'}, 'm3': {'operates': {'qubits': [3]}, 'purpose': 'measure', 'type': 'measure'}, 'm4': {'operates': {'qubits': [4]}, 'purpose': 'measure', 'type': 'measure'}, 'm5': {'operates': {'qubits': [5]}, 'purpose': 'measure', 'type': 'measure'}, 'm6': {'operates': {'qubits': [6]}, 'purpose': 'measure', 'type': 'measure'}, 'u0': {'operates': {'qubits': [0, 1]}, 'purpose': 'cross-resonance', 'type': 'control'}, 'u1': {'operates': {'qubits': [1, 0]}, 'purpose': 'cross-resonance', 'type': 'control'}, 'u10': {'operates': {'qubits': [5, 6]}, 'purpose': 'cross-resonance', 'type': 'control'}, 'u11': {'operates': {'qubits': [6, 5]}, 'purpose': 'cross-resonance', 'type': 'control'}, 'u2': {'operates': {'qubits': [1, 2]}, 'purpose': 'cross-resonance', 'type': 'control'}, 'u3': {'operates': {'qubits': [1, 3]}, 'purpose': 'cross-resonance', 'type': 'control'}, 'u4': {'operates': {'qubits': [2, 1]}, 'purpose': 'cross-resonance', 'type': 'control'}, 'u5': {'operates': {'qubits': [3, 1]}, 'purpose': 'cross-resonance', 'type': 'control'}, 'u6': {'operates': {'qubits': [3, 5]}, 'purpose': 'cross-resonance', 'type': 'control'}, 'u7': {'operates': {'qubits': [4, 5]}, 'purpose': 'cross-resonance', 'type': 'control'}, 'u8': {'operates': {'qubits': [5, 3]}, 'purpose': 'cross-resonance', 'type': 'control'}, 'u9': {'operates': {'qubits': [5, 4]}, 'purpose': 'cross-resonance', 'type': 'control'}}\n"
     ]
    }
   ],
   "source": [
    "channels  = backend_config.channels  \n",
    "print(channels)"
   ]
  },
  {
   "cell_type": "code",
   "execution_count": 63,
   "metadata": {},
   "outputs": [
    {
     "name": "stdout",
     "output_type": "stream",
     "text": [
      "{'description': 'Qubits are modeled as Duffing oscillators. In this case, the system includes higher energy states, i.e. not just |0> and |1>. The Pauli operators are generalized via the following set of transformations:\\n\\n$(\\\\mathbb{I}-\\\\sigma_{i}^z)/2 \\\\rightarrow O_i \\\\equiv b^\\\\dagger_{i} b_{i}$,\\n\\n$\\\\sigma_{+} \\\\rightarrow b^\\\\dagger$,\\n\\n$\\\\sigma_{-} \\\\rightarrow b$,\\n\\n$\\\\sigma_{i}^X \\\\rightarrow b^\\\\dagger_{i} + b_{i}$.\\n\\nQubits are coupled through resonator buses. The provided Hamiltonian has been projected into the zero excitation subspace of the resonator buses leading to an effective qubit-qubit flip-flop interaction. The qubit resonance frequencies in the Hamiltonian are the cavity dressed frequencies and not exactly what is returned by the backend defaults, which also includes the dressing due to the qubit-qubit interactions.\\n\\nQuantities are returned in angular frequencies, with units 2*pi*GHz.\\n\\nWARNING: Currently not all system Hamiltonian information is available to the public, missing values have been replaced with 0.\\n', 'h_latex': '\\\\begin{align} \\\\mathcal{H}/\\\\hbar = & \\\\sum_{i=0}^{6}\\\\left(\\\\frac{\\\\omega_{q,i}}{2}(\\\\mathbb{I}-\\\\sigma_i^{z})+\\\\frac{\\\\Delta_{i}}{2}(O_i^2-O_i)+\\\\Omega_{d,i}D_i(t)\\\\sigma_i^{X}\\\\right) \\\\\\\\ & + J_{1,2}(\\\\sigma_{1}^{+}\\\\sigma_{2}^{-}+\\\\sigma_{1}^{-}\\\\sigma_{2}^{+}) + J_{0,1}(\\\\sigma_{0}^{+}\\\\sigma_{1}^{-}+\\\\sigma_{0}^{-}\\\\sigma_{1}^{+}) + J_{1,3}(\\\\sigma_{1}^{+}\\\\sigma_{3}^{-}+\\\\sigma_{1}^{-}\\\\sigma_{3}^{+}) + J_{4,5}(\\\\sigma_{4}^{+}\\\\sigma_{5}^{-}+\\\\sigma_{4}^{-}\\\\sigma_{5}^{+}) \\\\\\\\ & + J_{5,6}(\\\\sigma_{5}^{+}\\\\sigma_{6}^{-}+\\\\sigma_{5}^{-}\\\\sigma_{6}^{+}) + J_{3,5}(\\\\sigma_{3}^{+}\\\\sigma_{5}^{-}+\\\\sigma_{3}^{-}\\\\sigma_{5}^{+}) \\\\\\\\ & + \\\\Omega_{d,0}(U_{0}^{(0,1)}(t))\\\\sigma_{0}^{X} + \\\\Omega_{d,1}(U_{1}^{(1,0)}(t)+U_{3}^{(1,3)}(t)+U_{2}^{(1,2)}(t))\\\\sigma_{1}^{X} \\\\\\\\ & + \\\\Omega_{d,2}(U_{4}^{(2,1)}(t))\\\\sigma_{2}^{X} + \\\\Omega_{d,3}(U_{5}^{(3,1)}(t)+U_{6}^{(3,5)}(t))\\\\sigma_{3}^{X} \\\\\\\\ & + \\\\Omega_{d,4}(U_{7}^{(4,5)}(t))\\\\sigma_{4}^{X} + \\\\Omega_{d,5}(U_{8}^{(5,3)}(t)+U_{10}^{(5,6)}(t)+U_{9}^{(5,4)}(t))\\\\sigma_{5}^{X} \\\\\\\\ & + \\\\Omega_{d,6}(U_{11}^{(6,5)}(t))\\\\sigma_{6}^{X} \\\\\\\\ \\\\end{align}', 'h_str': ['_SUM[i,0,6,wq{i}/2*(I{i}-Z{i})]', '_SUM[i,0,6,delta{i}/2*O{i}*O{i}]', '_SUM[i,0,6,-delta{i}/2*O{i}]', '_SUM[i,0,6,omegad{i}*X{i}||D{i}]', 'jq1q2*Sp1*Sm2', 'jq1q2*Sm1*Sp2', 'jq0q1*Sp0*Sm1', 'jq0q1*Sm0*Sp1', 'jq1q3*Sp1*Sm3', 'jq1q3*Sm1*Sp3', 'jq4q5*Sp4*Sm5', 'jq4q5*Sm4*Sp5', 'jq5q6*Sp5*Sm6', 'jq5q6*Sm5*Sp6', 'jq3q5*Sp3*Sm5', 'jq3q5*Sm3*Sp5', 'omegad1*X0||U0', 'omegad0*X1||U1', 'omegad3*X1||U3', 'omegad2*X1||U2', 'omegad1*X2||U4', 'omegad1*X3||U5', 'omegad5*X3||U6', 'omegad5*X4||U7', 'omegad3*X5||U8', 'omegad6*X5||U10', 'omegad4*X5||U9', 'omegad5*X6||U11'], 'osc': {}, 'qub': {'0': 3, '1': 3, '2': 3, '3': 3, '4': 3, '5': 3, '6': 3}, 'vars': {'delta0': -2135684895.7375534, 'delta1': -2051069517.9330974, 'delta2': -2127640392.4573247, 'delta3': -2127748155.8240955, 'delta4': -2129301739.398853, 'delta5': -2022190613.7524579, 'delta6': -2104827921.7467928, 'jq0q1': 8155201.12104726, 'jq1q2': 8960302.871474529, 'jq1q3': 8704187.306888234, 'jq3q5': 8755759.807187283, 'jq4q5': 9192358.915922279, 'jq5q6': 10792387.809142636, 'omegad0': 1440298403.757042, 'omegad1': 1042913625.0764529, 'omegad2': 1411010065.6535163, 'omegad3': 1547366729.424079, 'omegad4': 1490460238.439909, 'omegad5': 1082289090.1053412, 'omegad6': 916313586.8622271, 'wq0': 30297945702.019264, 'wq1': 29907070706.45859, 'wq2': 30833475092.342915, 'wq3': 30655490229.419018, 'wq4': 30604801282.190388, 'wq5': 31189090075.265053, 'wq6': 32528664043.098404}}\n"
     ]
    }
   ],
   "source": [
    "system_hamiltonian = backend_config.hamiltonian \n",
    "print(system_hamiltonian)"
   ]
  },
  {
   "cell_type": "code",
   "execution_count": 64,
   "metadata": {},
   "outputs": [
    {
     "name": "stdout",
     "output_type": "stream",
     "text": [
      "{'delta0': -2135684895.7375534, 'delta1': -2051069517.9330974, 'delta2': -2127640392.4573247, 'delta3': -2127748155.8240955, 'delta4': -2129301739.398853, 'delta5': -2022190613.7524579, 'delta6': -2104827921.7467928, 'jq0q1': 8155201.12104726, 'jq1q2': 8960302.871474529, 'jq1q3': 8704187.306888234, 'jq3q5': 8755759.807187283, 'jq4q5': 9192358.915922279, 'jq5q6': 10792387.809142636, 'omegad0': 1440298403.757042, 'omegad1': 1042913625.0764529, 'omegad2': 1411010065.6535163, 'omegad3': 1547366729.424079, 'omegad4': 1490460238.439909, 'omegad5': 1082289090.1053412, 'omegad6': 916313586.8622271, 'wq0': 30297945702.019264, 'wq1': 29907070706.45859, 'wq2': 30833475092.342915, 'wq3': 30655490229.419018, 'wq4': 30604801282.190388, 'wq5': 31189090075.265053, 'wq6': 32528664043.098404}\n"
     ]
    }
   ],
   "source": [
    "system_hamiltonian_params = backend_config.hamiltonian['vars']\n",
    "print(system_hamiltonian_params)"
   ]
  },
  {
   "cell_type": "code",
   "execution_count": 65,
   "metadata": {},
   "outputs": [
    {
     "name": "stdout",
     "output_type": "stream",
     "text": [
      "['cx', 'id', 'measure', 'rz', 'sx', 'u1', 'u2', 'u3', 'x']\n"
     ]
    }
   ],
   "source": [
    "inst_sched_map_instructions = inst_sched_map.instructions\n",
    "print(inst_sched_map_instructions)"
   ]
  },
  {
   "cell_type": "code",
   "execution_count": 68,
   "metadata": {},
   "outputs": [
    {
     "name": "stdout",
     "output_type": "stream",
     "text": [
      "12\n"
     ]
    }
   ],
   "source": [
    "n_uchannels = backend_config.n_uchannels\n",
    "print(n_uchannels)"
   ]
  },
  {
   "cell_type": "code",
   "execution_count": 66,
   "metadata": {},
   "outputs": [
    {
     "name": "stdout",
     "output_type": "stream",
     "text": [
      "[[UchannelLO(1, (1+0j))], [UchannelLO(0, (1+0j))], [UchannelLO(2, (1+0j))], [UchannelLO(3, (1+0j))], [UchannelLO(1, (1+0j))], [UchannelLO(1, (1+0j))], [UchannelLO(5, (1+0j))], [UchannelLO(5, (1+0j))], [UchannelLO(3, (1+0j))], [UchannelLO(4, (1+0j))], [UchannelLO(6, (1+0j))], [UchannelLO(5, (1+0j))]]\n"
     ]
    }
   ],
   "source": [
    "u_channel_lo = backend_config.u_channel_lo\n",
    "print(u_channel_lo)"
   ]
  },
  {
   "cell_type": "code",
   "execution_count": 67,
   "metadata": {},
   "outputs": [
    {
     "name": "stdout",
     "output_type": "stream",
     "text": [
      "[[4322067824.00621, 5322067824.00621], [4259858136.331707, 5259858136.331707], [4407299973.647209, 5407299973.647209], [4378972802.917337, 5378972802.917337], [4370905406.405776, 5370905406.405776], [4463897856.016808, 5463897856.016808], [4677097674.634708, 5677097674.634708]]\n"
     ]
    }
   ],
   "source": [
    "qubit_lo_range = backend_config.qubit_lo_range \n",
    "print(qubit_lo_range )"
   ]
  },
  {
   "cell_type": "code",
   "execution_count": 70,
   "metadata": {},
   "outputs": [
    {
     "name": "stdout",
     "output_type": "stream",
     "text": [
      "[[6784054663.0, 7784054663.0], [6885438514.0, 7885438514.0], [6823180030.0, 7823180030.0], [6730756417.0, 7730756417.0], [6780310863.0, 7780310863.0], [6646993373.0, 7646993373.0], [6900652534.0, 7900652534.0]]\n"
     ]
    }
   ],
   "source": [
    "meas_lo_range = backend_config.meas_lo_range \n",
    "print(meas_lo_range )"
   ]
  },
  {
   "cell_type": "code",
   "execution_count": 69,
   "metadata": {},
   "outputs": [
    {
     "name": "stdout",
     "output_type": "stream",
     "text": [
      "[1, 2]\n"
     ]
    }
   ],
   "source": [
    "meas_levels = backend_config.meas_levels\n",
    "print(meas_levels)"
   ]
  }
 ],
 "metadata": {
  "kernelspec": {
   "display_name": "walter",
   "language": "python",
   "name": "walter"
  },
  "language_info": {
   "codemirror_mode": {
    "name": "ipython",
    "version": 3
   },
   "file_extension": ".py",
   "mimetype": "text/x-python",
   "name": "python",
   "nbconvert_exporter": "python",
   "pygments_lexer": "ipython3",
   "version": "3.8.5"
  }
 },
 "nbformat": 4,
 "nbformat_minor": 4
}
