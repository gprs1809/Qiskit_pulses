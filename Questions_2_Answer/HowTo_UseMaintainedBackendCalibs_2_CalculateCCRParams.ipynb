{
 "cells": [
  {
   "cell_type": "markdown",
   "metadata": {},
   "source": [
    "# Question: How to use the backend calibrations maintained by IBM 2 calculate the Cross Cross Resonance pulse parameters?"
   ]
  },
  {
   "cell_type": "markdown",
   "metadata": {},
   "source": [
    "## 1.  Collection of Provided Values\n",
    "\n",
    "step 1: collect the values we can get from the maintained calibrations "
   ]
  },
  {
   "cell_type": "code",
   "execution_count": 2,
   "metadata": {
    "scrolled": true
   },
   "outputs": [
    {
     "name": "stdout",
     "output_type": "stream",
     "text": [
      "Index(['Qubit', 'T1 (us)', 'T2 (us)', 'Frequency (GHz)', 'Anharmonicity (GHz)',\n",
      "       'Readout assignment error ', 'Prob meas0 prep1 ', 'Prob meas1 prep0 ',\n",
      "       'Readout length (ns)', 'ID error ', '√x (sx) error ',\n",
      "       'Single-qubit Pauli-X error ', 'CNOT error ', 'Gate time (ns)'],\n",
      "      dtype='object')\n"
     ]
    },
    {
     "data": {
      "text/html": [
       "<div>\n",
       "<style scoped>\n",
       "    .dataframe tbody tr th:only-of-type {\n",
       "        vertical-align: middle;\n",
       "    }\n",
       "\n",
       "    .dataframe tbody tr th {\n",
       "        vertical-align: top;\n",
       "    }\n",
       "\n",
       "    .dataframe thead th {\n",
       "        text-align: right;\n",
       "    }\n",
       "</style>\n",
       "<table border=\"1\" class=\"dataframe\">\n",
       "  <thead>\n",
       "    <tr style=\"text-align: right;\">\n",
       "      <th></th>\n",
       "      <th>Qubit</th>\n",
       "      <th>T1 (us)</th>\n",
       "      <th>T2 (us)</th>\n",
       "      <th>Frequency (GHz)</th>\n",
       "      <th>Anharmonicity (GHz)</th>\n",
       "      <th>Readout assignment error</th>\n",
       "      <th>Prob meas0 prep1</th>\n",
       "      <th>Prob meas1 prep0</th>\n",
       "      <th>Readout length (ns)</th>\n",
       "      <th>ID error</th>\n",
       "      <th>√x (sx) error</th>\n",
       "      <th>Single-qubit Pauli-X error</th>\n",
       "      <th>CNOT error</th>\n",
       "      <th>Gate time (ns)</th>\n",
       "    </tr>\n",
       "  </thead>\n",
       "  <tbody>\n",
       "    <tr>\n",
       "      <th>0</th>\n",
       "      <td>Q0</td>\n",
       "      <td>98.23</td>\n",
       "      <td>57.33</td>\n",
       "      <td>4.822</td>\n",
       "      <td>-0.33990</td>\n",
       "      <td>0.0398</td>\n",
       "      <td>0.0560</td>\n",
       "      <td>0.0236</td>\n",
       "      <td>5351.111</td>\n",
       "      <td>0.000272</td>\n",
       "      <td>0.000272</td>\n",
       "      <td>0.000272</td>\n",
       "      <td>0_1:7.774e-3</td>\n",
       "      <td>0_1:497.778</td>\n",
       "    </tr>\n",
       "    <tr>\n",
       "      <th>1</th>\n",
       "      <td>Q1</td>\n",
       "      <td>125.07</td>\n",
       "      <td>125.85</td>\n",
       "      <td>4.760</td>\n",
       "      <td>-0.32644</td>\n",
       "      <td>0.0143</td>\n",
       "      <td>0.0162</td>\n",
       "      <td>0.0124</td>\n",
       "      <td>5351.111</td>\n",
       "      <td>0.000182</td>\n",
       "      <td>0.000182</td>\n",
       "      <td>0.000182</td>\n",
       "      <td>1_3:5.189e-3; 1_0:7.774e-3; 1_2:1.296e-2</td>\n",
       "      <td>1_3:355.556; 1_0:462.222; 1_2:398.222</td>\n",
       "    </tr>\n",
       "    <tr>\n",
       "      <th>2</th>\n",
       "      <td>Q2</td>\n",
       "      <td>107.36</td>\n",
       "      <td>131.63</td>\n",
       "      <td>4.907</td>\n",
       "      <td>-0.33862</td>\n",
       "      <td>0.0167</td>\n",
       "      <td>0.0186</td>\n",
       "      <td>0.0148</td>\n",
       "      <td>5351.111</td>\n",
       "      <td>0.002543</td>\n",
       "      <td>0.002543</td>\n",
       "      <td>0.002543</td>\n",
       "      <td>2_1:1.296e-2</td>\n",
       "      <td>2_1:433.778</td>\n",
       "    </tr>\n",
       "    <tr>\n",
       "      <th>3</th>\n",
       "      <td>Q3</td>\n",
       "      <td>93.69</td>\n",
       "      <td>156.47</td>\n",
       "      <td>4.879</td>\n",
       "      <td>-0.33864</td>\n",
       "      <td>0.0179</td>\n",
       "      <td>0.0282</td>\n",
       "      <td>0.0076</td>\n",
       "      <td>5351.111</td>\n",
       "      <td>0.000195</td>\n",
       "      <td>0.000195</td>\n",
       "      <td>0.000195</td>\n",
       "      <td>3_5:7.657e-3; 3_1:5.189e-3</td>\n",
       "      <td>3_5:433.778; 3_1:320</td>\n",
       "    </tr>\n",
       "    <tr>\n",
       "      <th>4</th>\n",
       "      <td>Q4</td>\n",
       "      <td>123.99</td>\n",
       "      <td>52.08</td>\n",
       "      <td>4.871</td>\n",
       "      <td>-0.33889</td>\n",
       "      <td>0.0242</td>\n",
       "      <td>0.0342</td>\n",
       "      <td>0.0142</td>\n",
       "      <td>5351.111</td>\n",
       "      <td>0.000316</td>\n",
       "      <td>0.000316</td>\n",
       "      <td>0.000316</td>\n",
       "      <td>4_5:7.640e-3</td>\n",
       "      <td>4_5:398.222</td>\n",
       "    </tr>\n",
       "    <tr>\n",
       "      <th>5</th>\n",
       "      <td>Q5</td>\n",
       "      <td>59.04</td>\n",
       "      <td>10.46</td>\n",
       "      <td>4.964</td>\n",
       "      <td>-0.32184</td>\n",
       "      <td>0.0189</td>\n",
       "      <td>0.0298</td>\n",
       "      <td>0.0080</td>\n",
       "      <td>5351.111</td>\n",
       "      <td>0.000341</td>\n",
       "      <td>0.000341</td>\n",
       "      <td>0.000341</td>\n",
       "      <td>5_6:1.522e-2; 5_4:7.640e-3; 5_3:7.657e-3</td>\n",
       "      <td>5_6:341.333; 5_4:362.667; 5_3:398.222</td>\n",
       "    </tr>\n",
       "    <tr>\n",
       "      <th>6</th>\n",
       "      <td>Q6</td>\n",
       "      <td>102.03</td>\n",
       "      <td>142.38</td>\n",
       "      <td>5.177</td>\n",
       "      <td>-0.33499</td>\n",
       "      <td>0.0184</td>\n",
       "      <td>0.0276</td>\n",
       "      <td>0.0092</td>\n",
       "      <td>5351.111</td>\n",
       "      <td>0.000222</td>\n",
       "      <td>0.000222</td>\n",
       "      <td>0.000222</td>\n",
       "      <td>6_5:1.522e-2</td>\n",
       "      <td>6_5:305.778</td>\n",
       "    </tr>\n",
       "  </tbody>\n",
       "</table>\n",
       "</div>"
      ],
      "text/plain": [
       "  Qubit  T1 (us)  T2 (us)  Frequency (GHz)  Anharmonicity (GHz)  \\\n",
       "0    Q0    98.23    57.33            4.822             -0.33990   \n",
       "1    Q1   125.07   125.85            4.760             -0.32644   \n",
       "2    Q2   107.36   131.63            4.907             -0.33862   \n",
       "3    Q3    93.69   156.47            4.879             -0.33864   \n",
       "4    Q4   123.99    52.08            4.871             -0.33889   \n",
       "5    Q5    59.04    10.46            4.964             -0.32184   \n",
       "6    Q6   102.03   142.38            5.177             -0.33499   \n",
       "\n",
       "   Readout assignment error   Prob meas0 prep1   Prob meas1 prep0   \\\n",
       "0                     0.0398             0.0560             0.0236   \n",
       "1                     0.0143             0.0162             0.0124   \n",
       "2                     0.0167             0.0186             0.0148   \n",
       "3                     0.0179             0.0282             0.0076   \n",
       "4                     0.0242             0.0342             0.0142   \n",
       "5                     0.0189             0.0298             0.0080   \n",
       "6                     0.0184             0.0276             0.0092   \n",
       "\n",
       "   Readout length (ns)  ID error   √x (sx) error   \\\n",
       "0             5351.111   0.000272        0.000272   \n",
       "1             5351.111   0.000182        0.000182   \n",
       "2             5351.111   0.002543        0.002543   \n",
       "3             5351.111   0.000195        0.000195   \n",
       "4             5351.111   0.000316        0.000316   \n",
       "5             5351.111   0.000341        0.000341   \n",
       "6             5351.111   0.000222        0.000222   \n",
       "\n",
       "   Single-qubit Pauli-X error                                CNOT error   \\\n",
       "0                     0.000272                              0_1:7.774e-3   \n",
       "1                     0.000182  1_3:5.189e-3; 1_0:7.774e-3; 1_2:1.296e-2   \n",
       "2                     0.002543                              2_1:1.296e-2   \n",
       "3                     0.000195                3_5:7.657e-3; 3_1:5.189e-3   \n",
       "4                     0.000316                              4_5:7.640e-3   \n",
       "5                     0.000341  5_6:1.522e-2; 5_4:7.640e-3; 5_3:7.657e-3   \n",
       "6                     0.000222                              6_5:1.522e-2   \n",
       "\n",
       "                          Gate time (ns)  \n",
       "0                            0_1:497.778  \n",
       "1  1_3:355.556; 1_0:462.222; 1_2:398.222  \n",
       "2                            2_1:433.778  \n",
       "3                   3_5:433.778; 3_1:320  \n",
       "4                            4_5:398.222  \n",
       "5  5_6:341.333; 5_4:362.667; 5_3:398.222  \n",
       "6                            6_5:305.778  "
      ]
     },
     "execution_count": 2,
     "metadata": {},
     "output_type": "execute_result"
    }
   ],
   "source": [
    "import pandas as pd\n",
    "import os\n",
    "csv_path = os.getcwd() + \"\\\\ibmq_casablanca_calibrations_2021_04_06.csv\"\n",
    "df = pd.read_csv(csv_path)\n",
    "print(df.columns)\n",
    "df"
   ]
  },
  {
   "cell_type": "code",
   "execution_count": 3,
   "metadata": {},
   "outputs": [
    {
     "name": "stderr",
     "output_type": "stream",
     "text": [
      "C:\\ProgramData\\Anaconda3\\envs\\walter\\lib\\site-packages\\qiskit\\providers\\ibmq\\ibmqfactory.py:192: UserWarning: Timestamps in IBMQ backend properties, jobs, and job results are all now in local time instead of UTC.\n",
      "  warnings.warn('Timestamps in IBMQ backend properties, jobs, and job results '\n"
     ]
    },
    {
     "name": "stdout",
     "output_type": "stream",
     "text": [
      "<PulseDefaults(<InstructionScheduleMap(1Q instructions:\n",
      "  q0: {'u1', 'measure', 'u2', 'u3', 'rz', 'sx', 'x', 'id'}\n",
      "  q1: {'u1', 'measure', 'u2', 'u3', 'rz', 'sx', 'x', 'id'}\n",
      "  q2: {'u1', 'measure', 'u2', 'u3', 'rz', 'sx', 'x', 'id'}\n",
      "  q3: {'u1', 'measure', 'u2', 'u3', 'rz', 'sx', 'x', 'id'}\n",
      "  q4: {'u1', 'measure', 'u2', 'u3', 'rz', 'sx', 'x', 'id'}\n",
      "  q5: {'u1', 'measure', 'u2', 'u3', 'rz', 'sx', 'x', 'id'}\n",
      "  q6: {'u1', 'measure', 'u2', 'u3', 'rz', 'sx', 'x', 'id'}\n",
      "Multi qubit instructions:\n",
      "  (0, 1): {'cx'}\n",
      "  (1, 0): {'cx'}\n",
      "  (1, 2): {'cx'}\n",
      "  (1, 3): {'cx'}\n",
      "  (2, 1): {'cx'}\n",
      "  (3, 1): {'cx'}\n",
      "  (3, 5): {'cx'}\n",
      "  (4, 5): {'cx'}\n",
      "  (5, 3): {'cx'}\n",
      "  (5, 4): {'cx'}\n",
      "  (5, 6): {'cx'}\n",
      "  (6, 5): {'cx'}\n",
      "  (0, 1, 2, 3, 4, 5, 6): {'measure'}\n",
      ")>Qubit Frequencies [GHz]\n",
      "[4.822100492352904, 4.759824933715048, 4.9073428582263325, 4.878972058210034, 4.8709098053914754, 4.963893057649185, 5.177096795422384]\n",
      "Measurement Frequencies [GHz]\n",
      "[7.284054663, 7.385438514, 7.32318003, 7.230756417, 7.280310863, 7.146993373, 7.400652534] )>\n"
     ]
    }
   ],
   "source": [
    "from qiskit import pulse\n",
    "import numpy as np\n",
    "import matplotlib.pyplot as plt\n",
    "from qiskit.pulse import Play, Schedule, DriveChannel, ControlChannel, Waveform\n",
    "from qiskit.pulse.library import drag, GaussianSquare\n",
    "from qiskit import QuantumCircuit, Aer, IBMQ\n",
    "\n",
    "IBMQ.load_account()\n",
    "provider = IBMQ.get_provider(hub='ibm-q-community', group='ibmquantumawards', project='open-science')\n",
    "backend = provider.get_backend('ibmq_casablanca')\n",
    "\n",
    "backend_config = backend.configuration()\n",
    "backend_defaults = backend.defaults()\n",
    "\n",
    "print(backend_defaults)"
   ]
  },
  {
   "cell_type": "code",
   "execution_count": 4,
   "metadata": {},
   "outputs": [
    {
     "name": "stdout",
     "output_type": "stream",
     "text": [
      "Sampling time: 0.2222222222222222 ns\n"
     ]
    }
   ],
   "source": [
    "dt = backend_config.dt\n",
    "print(f\"Sampling time: {dt*1e9} ns\") "
   ]
  },
  {
   "cell_type": "code",
   "execution_count": 5,
   "metadata": {},
   "outputs": [
    {
     "name": "stdout",
     "output_type": "stream",
     "text": [
      "[GateConfig(id, [], gate id q { U(0, 0, 0) q; }, [[0], [1], [2], [3], [4], [5], [6]]), GateConfig(rz, ['theta'], gate rz(theta) q { U(0, 0, theta) q; }, [[0], [1], [2], [3], [4], [5], [6]]), GateConfig(sx, [], gate sx q { U(pi/2, 3*pi/2, pi/2) q; }, [[0], [1], [2], [3], [4], [5], [6]]), GateConfig(x, [], gate x q { U(pi, 0, pi) q; }, [[0], [1], [2], [3], [4], [5], [6]]), GateConfig(cx, [], gate cx q0, q1 { CX q0, q1; }, [[0, 1], [1, 0], [1, 2], [1, 3], [2, 1], [3, 1], [3, 5], [4, 5], [5, 3], [5, 4], [5, 6], [6, 5]]), GateConfig(reset, None, None)]\n"
     ]
    }
   ],
   "source": [
    "gates_config = backend_config.gates \n",
    "print(gates_config )"
   ]
  },
  {
   "cell_type": "code",
   "execution_count": 11,
   "metadata": {},
   "outputs": [
    {
     "name": "stdout",
     "output_type": "stream",
     "text": [
      "dict_keys(['acquire0', 'acquire1', 'acquire2', 'acquire3', 'acquire4', 'acquire5', 'acquire6', 'd0', 'd1', 'd2', 'd3', 'd4', 'd5', 'd6', 'm0', 'm1', 'm2', 'm3', 'm4', 'm5', 'm6', 'u0', 'u1', 'u10', 'u11', 'u2', 'u3', 'u4', 'u5', 'u6', 'u7', 'u8', 'u9'])\n"
     ]
    }
   ],
   "source": [
    "channels  = backend_config.channels  \n",
    "print(channels.keys())"
   ]
  },
  {
   "cell_type": "code",
   "execution_count": 7,
   "metadata": {},
   "outputs": [
    {
     "data": {
      "text/plain": [
       "dict"
      ]
     },
     "execution_count": 7,
     "metadata": {},
     "output_type": "execute_result"
    }
   ],
   "source": [
    "system_hamiltonian = backend_config.hamiltonian \n",
    "type(system_hamiltonian)"
   ]
  },
  {
   "cell_type": "code",
   "execution_count": 8,
   "metadata": {},
   "outputs": [
    {
     "name": "stdout",
     "output_type": "stream",
     "text": [
      "{'delta0': -2135684895.7375534, 'delta1': -2051069517.9330974, 'delta2': -2127640392.4573247, 'delta3': -2127748155.8240955, 'delta4': -2129301739.398853, 'delta5': -2022190613.7524579, 'delta6': -2104827921.7467928, 'jq0q1': 8155201.12104726, 'jq1q2': 8960302.871474529, 'jq1q3': 8704187.306888234, 'jq3q5': 8755759.807187283, 'jq4q5': 9192358.915922279, 'jq5q6': 10792387.809142636, 'omegad0': 1429985021.1747696, 'omegad1': 1041603589.3202244, 'omegad2': 1410465124.990575, 'omegad3': 1545264670.423624, 'omegad4': 1488038137.8237498, 'omegad5': 1080975279.6225054, 'omegad6': 915531089.4933453, 'wq0': 30298150963.295216, 'wq1': 29906862088.26544, 'wq2': 30833744544.10037, 'wq3': 30655485550.285034, 'wq4': 30604828921.832703, 'wq5': 31189059926.23211, 'wq6': 32528658518.844444}\n"
     ]
    }
   ],
   "source": [
    "system_hamiltonian_params = backend_config.hamiltonian['vars']\n",
    "print(system_hamiltonian_params)"
   ]
  },
  {
   "cell_type": "code",
   "execution_count": 65,
   "metadata": {},
   "outputs": [
    {
     "name": "stdout",
     "output_type": "stream",
     "text": [
      "['cx', 'id', 'measure', 'rz', 'sx', 'u1', 'u2', 'u3', 'x']\n"
     ]
    }
   ],
   "source": [
    "inst_sched_map_instructions = inst_sched_map.instructions\n",
    "print(inst_sched_map_instructions)"
   ]
  },
  {
   "cell_type": "code",
   "execution_count": 68,
   "metadata": {},
   "outputs": [
    {
     "name": "stdout",
     "output_type": "stream",
     "text": [
      "12\n"
     ]
    }
   ],
   "source": [
    "n_uchannels = backend_config.n_uchannels\n",
    "print(n_uchannels)"
   ]
  },
  {
   "cell_type": "code",
   "execution_count": 66,
   "metadata": {},
   "outputs": [
    {
     "name": "stdout",
     "output_type": "stream",
     "text": [
      "[[UchannelLO(1, (1+0j))], [UchannelLO(0, (1+0j))], [UchannelLO(2, (1+0j))], [UchannelLO(3, (1+0j))], [UchannelLO(1, (1+0j))], [UchannelLO(1, (1+0j))], [UchannelLO(5, (1+0j))], [UchannelLO(5, (1+0j))], [UchannelLO(3, (1+0j))], [UchannelLO(4, (1+0j))], [UchannelLO(6, (1+0j))], [UchannelLO(5, (1+0j))]]\n"
     ]
    }
   ],
   "source": [
    "u_channel_lo = backend_config.u_channel_lo\n",
    "print(u_channel_lo)"
   ]
  },
  {
   "cell_type": "code",
   "execution_count": 67,
   "metadata": {},
   "outputs": [
    {
     "name": "stdout",
     "output_type": "stream",
     "text": [
      "[[4322067824.00621, 5322067824.00621], [4259858136.331707, 5259858136.331707], [4407299973.647209, 5407299973.647209], [4378972802.917337, 5378972802.917337], [4370905406.405776, 5370905406.405776], [4463897856.016808, 5463897856.016808], [4677097674.634708, 5677097674.634708]]\n"
     ]
    }
   ],
   "source": [
    "qubit_lo_range = backend_config.qubit_lo_range \n",
    "print(qubit_lo_range )"
   ]
  },
  {
   "cell_type": "code",
   "execution_count": 70,
   "metadata": {},
   "outputs": [
    {
     "name": "stdout",
     "output_type": "stream",
     "text": [
      "[[6784054663.0, 7784054663.0], [6885438514.0, 7885438514.0], [6823180030.0, 7823180030.0], [6730756417.0, 7730756417.0], [6780310863.0, 7780310863.0], [6646993373.0, 7646993373.0], [6900652534.0, 7900652534.0]]\n"
     ]
    }
   ],
   "source": [
    "meas_lo_range = backend_config.meas_lo_range \n",
    "print(meas_lo_range )"
   ]
  },
  {
   "cell_type": "code",
   "execution_count": 69,
   "metadata": {},
   "outputs": [
    {
     "name": "stdout",
     "output_type": "stream",
     "text": [
      "[1, 2]\n"
     ]
    }
   ],
   "source": [
    "meas_levels = backend_config.meas_levels\n",
    "print(meas_levels)"
   ]
  },
  {
   "cell_type": "code",
   "execution_count": 71,
   "metadata": {},
   "outputs": [],
   "source": [
    "def cx_pulse_instructions(qc: int, qt: int) -> Schedule:\n",
    "    \"\"\"Retrieve the CNOT pulse schedule for the given\n",
    "    qubit pair from the backend defaults.\n",
    "    \n",
    "    Args:\n",
    "      qc: control qubit index\n",
    "      qt: target qubit index\n",
    "    \"\"\"\n",
    "    if [qc, qt] not in backend_config.coupling_map:\n",
    "        print('Qubit pair has no direct cross resonance!')\n",
    "    else:\n",
    "        cx = inst_sched_map.get('cx', qubits=[qc, qt])\n",
    "        return cx\n",
    "    \n",
    "def get_cr_chan_inst(qc: int, qt: int) -> (ControlChannel, Waveform):\n",
    "    \"\"\"Retrieve the cross resonance pulse channel and waveform\n",
    "    for the qubit pair from the cx (CNOT) schedule.\n",
    "    \n",
    "    Args:\n",
    "      qc: control qubit index\n",
    "      qt: target qubit index\n",
    "    \"\"\"\n",
    "    cx = cx_pulse_instructions(qc, qt)\n",
    "    idx = 0\n",
    "    # look for first Play instruction on a ControlChannel\n",
    "    while (type(cx.instructions[idx][1].channels[0]) is not ControlChannel) or \\\n",
    "        (type(cx.instructions[idx][1]) is not Play):\n",
    "        idx += 1\n",
    "    return (cx.instructions[idx][1].channels[0], cx.instructions[idx][1].pulse)"
   ]
  },
  {
   "cell_type": "code",
   "execution_count": 97,
   "metadata": {},
   "outputs": [
    {
     "name": "stdout",
     "output_type": "stream",
     "text": [
      "(ControlChannel(1), GaussianSquare(duration=880, amp=(0.09491427571513351+0.20055835852752296j), sigma=64, width=624))\n",
      "True\n"
     ]
    }
   ],
   "source": [
    "print(get_cr_chan_inst(0, 1))\n",
    "print(get_cr_chan_inst(0, 1)==get_cr_chan_inst(0, 1))"
   ]
  },
  {
   "cell_type": "code",
   "execution_count": 98,
   "metadata": {},
   "outputs": [
    {
     "name": "stdout",
     "output_type": "stream",
     "text": [
      "Schedule((0, ShiftPhase(-3.141592653589793, DriveChannel(0))), (0, ShiftPhase(-1.5707963267948966, DriveChannel(1))), (0, ShiftPhase(-1.5707963267948966, ControlChannel(0))), (0, ShiftPhase(-3.141592653589793, ControlChannel(1))), (0, ShiftPhase(-1.5707963267948966, ControlChannel(4))), (0, ShiftPhase(-1.5707963267948966, ControlChannel(5))), (0, Play(Drag(duration=160, amp=(-0.0009081373423082974+0.06603496709836688j), sigma=40, beta=-0.34556785501122383), DriveChannel(0))), (0, Play(Drag(duration=160, amp=(0.09081596827880498+0.0014195310134645113j), sigma=40, beta=-0.5394615377493713), DriveChannel(1))), (160, Play(GaussianSquare(duration=880, amp=(0.023928903710885352+0.0005715711085036445j), sigma=64, width=624), DriveChannel(0))), (160, Play(GaussianSquare(duration=880, amp=(0.09491427571513351+0.20055835852752296j), sigma=64, width=624), ControlChannel(1))), (1040, Play(Drag(duration=160, amp=(0.1817420085362087+0j), sigma=40, beta=-0.6193790259524857), DriveChannel(1))), (1200, Play(GaussianSquare(duration=880, amp=(-0.023928903710885352-0.0005715711085036416j), sigma=64, width=624), DriveChannel(0))), (1200, Play(GaussianSquare(duration=880, amp=(-0.09491427571513354-0.20055835852752296j), sigma=64, width=624), ControlChannel(1))), (2080, ShiftPhase(-1.5707963267948966, DriveChannel(0))), (2080, ShiftPhase(-1.5707963267948966, ControlChannel(1))), (2080, Play(Drag(duration=160, amp=(0.06603496709836688+0.0009081373423083087j), sigma=40, beta=-0.34556785501122383), DriveChannel(0))), (2080, Play(Drag(duration=160, amp=(0.0014195310134644957-0.09081596827880498j), sigma=40, beta=-0.5394615377493713), DriveChannel(1))), name=\"cx\") \n",
      "\n",
      "Schedule((0, ShiftPhase(1.5707963267948966, DriveChannel(1))), (0, ShiftPhase(1.5707963267948966, ControlChannel(0))), (0, ShiftPhase(1.5707963267948966, ControlChannel(4))), (0, ShiftPhase(1.5707963267948966, ControlChannel(5))), (0, Play(Drag(duration=160, amp=(0.06603496709836688+0.0009081373423083087j), sigma=40, beta=-0.34556785501122383), DriveChannel(0))), (0, Play(Drag(duration=160, amp=(-3.3385465353671836e-17-0.1817420085362087j), sigma=40, beta=-0.6193790259524857), DriveChannel(1))), (160, Play(GaussianSquare(duration=880, amp=(0.023928903710885352+0.0005715711085036445j), sigma=64, width=624), DriveChannel(0))), (160, Play(GaussianSquare(duration=880, amp=(0.09491427571513351+0.20055835852752296j), sigma=64, width=624), ControlChannel(1))), (1040, Play(Drag(duration=160, amp=(0.1817420085362087+0j), sigma=40, beta=-0.6193790259524857), DriveChannel(1))), (1200, Play(GaussianSquare(duration=880, amp=(-0.023928903710885352-0.0005715711085036416j), sigma=64, width=624), DriveChannel(0))), (1200, Play(GaussianSquare(duration=880, amp=(-0.09491427571513354-0.20055835852752296j), sigma=64, width=624), ControlChannel(1))), name=\"cx\")\n"
     ]
    }
   ],
   "source": [
    "print(cx_pulse_instructions(0, 1),\"\\n\")\n",
    "print(cx_pulse_instructions(1, 0))"
   ]
  },
  {
   "cell_type": "code",
   "execution_count": 99,
   "metadata": {},
   "outputs": [
    {
     "data": {
      "text/plain": [
       "(ControlChannel(2),\n",
       " GaussianSquare(duration=736, amp=(0.7546130757045991+0.3016659850455465j), sigma=64, width=480))"
      ]
     },
     "execution_count": 99,
     "metadata": {},
     "output_type": "execute_result"
    }
   ],
   "source": [
    "get_cr_chan_inst(1, 2)"
   ]
  },
  {
   "cell_type": "code",
   "execution_count": 100,
   "metadata": {},
   "outputs": [
    {
     "data": {
      "text/plain": [
       "(ControlChannel(5),\n",
       " GaussianSquare(duration=560, amp=(-0.32494487484900486-0.16257580959444107j), sigma=64, width=304))"
      ]
     },
     "execution_count": 100,
     "metadata": {},
     "output_type": "execute_result"
    }
   ],
   "source": [
    "get_cr_chan_inst(1, 3)"
   ]
  },
  {
   "cell_type": "code",
   "execution_count": 101,
   "metadata": {},
   "outputs": [
    {
     "data": {
      "text/plain": [
       "(ControlChannel(8),\n",
       " GaussianSquare(duration=736, amp=(0.20425006279967148-0.09325119936682269j), sigma=64, width=480))"
      ]
     },
     "execution_count": 101,
     "metadata": {},
     "output_type": "execute_result"
    }
   ],
   "source": [
    "get_cr_chan_inst(3, 5)"
   ]
  },
  {
   "cell_type": "code",
   "execution_count": 102,
   "metadata": {},
   "outputs": [
    {
     "data": {
      "text/plain": [
       "(ControlChannel(9),\n",
       " GaussianSquare(duration=656, amp=(-0.23464071022093874+0.12436373379320753j), sigma=64, width=400))"
      ]
     },
     "execution_count": 102,
     "metadata": {},
     "output_type": "execute_result"
    }
   ],
   "source": [
    "get_cr_chan_inst(4, 5)"
   ]
  },
  {
   "cell_type": "code",
   "execution_count": 103,
   "metadata": {},
   "outputs": [
    {
     "data": {
      "text/plain": [
       "(ControlChannel(11),\n",
       " GaussianSquare(duration=528, amp=(0.13907902732829266+0.4175197257727899j), sigma=64, width=272))"
      ]
     },
     "execution_count": 103,
     "metadata": {},
     "output_type": "execute_result"
    }
   ],
   "source": [
    "get_cr_chan_inst(5, 6)"
   ]
  },
  {
   "cell_type": "code",
   "execution_count": null,
   "metadata": {},
   "outputs": [],
   "source": []
  }
 ],
 "metadata": {
  "kernelspec": {
   "display_name": "walter",
   "language": "python",
   "name": "walter"
  },
  "language_info": {
   "codemirror_mode": {
    "name": "ipython",
    "version": 3
   },
   "file_extension": ".py",
   "mimetype": "text/x-python",
   "name": "python",
   "nbconvert_exporter": "python",
   "pygments_lexer": "ipython3",
   "version": "3.8.5"
  }
 },
 "nbformat": 4,
 "nbformat_minor": 4
}
