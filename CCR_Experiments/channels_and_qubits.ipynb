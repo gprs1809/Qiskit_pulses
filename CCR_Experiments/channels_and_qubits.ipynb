{
 "cells": [
  {
   "cell_type": "code",
   "execution_count": 104,
   "metadata": {},
   "outputs": [
    {
     "name": "stderr",
     "output_type": "stream",
     "text": [
      "C:\\ProgramData\\Anaconda3\\envs\\walter\\lib\\site-packages\\qiskit\\providers\\ibmq\\ibmqfactory.py:192: UserWarning: Timestamps in IBMQ backend properties, jobs, and job results are all now in local time instead of UTC.\n",
      "  warnings.warn('Timestamps in IBMQ backend properties, jobs, and job results '\n",
      "ibmqfactory.load_account:WARNING:2021-04-08 18:12:36,191: Credentials are already in use. The existing account in the session will be replaced.\n"
     ]
    }
   ],
   "source": [
    "# just some standard import...\n",
    "from qiskit import pulse\n",
    "import os, json\n",
    "import numpy as np\n",
    "import matplotlib.pyplot as plt\n",
    "from qiskit.pulse import Play, Schedule, DriveChannel, ControlChannel, Waveform\n",
    "from qiskit.pulse.library import drag, GaussianSquare\n",
    "from qiskit.visualization import SchedStyle\n",
    "from qiskit import QuantumCircuit, Aer, IBMQ\n",
    "from qiskit.test.mock import FakeAthens\n",
    "\n",
    "# account + backend\n",
    "IBMQ.load_account()\n",
    "provider = IBMQ.get_provider(hub='ibm-q-community', group='ibmquantumawards', project='open-science')\n",
    "backend = provider.get_backend('ibmq_casablanca')\n",
    "\n",
    "# plot more beautiful\n",
    "style = SchedStyle(figsize=(20, 10))\n",
    "plt.style.use('dark_background')\n",
    "plt.rcParams['figure.figsize'] = [15, 15]\n"
   ]
  },
  {
   "cell_type": "code",
   "execution_count": 105,
   "metadata": {},
   "outputs": [],
   "source": [
    "backend_config = backend.configuration()\n",
    "backend_defaults = backend.defaults()\n",
    "dt=backend_config.dt  # hardware resolution\n",
    "backend.configuration().parametric_pulses = [] # will allow us to send a larger waveform for our experiments\n",
    "inst_sched_map = backend_defaults.instruction_schedule_map \n",
    "ham_params = backend_config.hamiltonian['vars']"
   ]
  },
  {
   "cell_type": "code",
   "execution_count": 106,
   "metadata": {},
   "outputs": [
    {
     "data": {
      "text/plain": [
       "12"
      ]
     },
     "execution_count": 106,
     "metadata": {},
     "output_type": "execute_result"
    }
   ],
   "source": [
    "backend_config.n_uchannels # Number of u-channels."
   ]
  },
  {
   "cell_type": "code",
   "execution_count": 107,
   "metadata": {},
   "outputs": [
    {
     "data": {
      "text/plain": [
       "[[UchannelLO(1, (1+0j))],\n",
       " [UchannelLO(0, (1+0j))],\n",
       " [UchannelLO(2, (1+0j))],\n",
       " [UchannelLO(3, (1+0j))],\n",
       " [UchannelLO(1, (1+0j))],\n",
       " [UchannelLO(1, (1+0j))],\n",
       " [UchannelLO(5, (1+0j))],\n",
       " [UchannelLO(5, (1+0j))],\n",
       " [UchannelLO(3, (1+0j))],\n",
       " [UchannelLO(4, (1+0j))],\n",
       " [UchannelLO(6, (1+0j))],\n",
       " [UchannelLO(5, (1+0j))]]"
      ]
     },
     "execution_count": 107,
     "metadata": {},
     "output_type": "execute_result"
    }
   ],
   "source": [
    "backend_config.u_channel_lo  # U-channel relationship on device los."
   ]
  },
  {
   "cell_type": "code",
   "execution_count": 108,
   "metadata": {},
   "outputs": [
    {
     "data": {
      "text/plain": [
       "[[4322079641.29924, 5322079641.29924],\n",
       " [4259838438.8134046, 5259838438.813404],\n",
       " [4407349586.838664, 5407349586.838664],\n",
       " [4378965150.40599, 5378965150.40599],\n",
       " [4370907055.445278, 5370907055.445278],\n",
       " [4463895473.770882, 5463895473.770882],\n",
       " [4677098305.340573, 5677098305.340573]]"
      ]
     },
     "execution_count": 108,
     "metadata": {},
     "output_type": "execute_result"
    }
   ],
   "source": [
    "backend_config.qubit_lo_range # Qubit lo ranges for each qubit with form (min, max) in GHz."
   ]
  },
  {
   "cell_type": "code",
   "execution_count": 109,
   "metadata": {},
   "outputs": [
    {
     "data": {
      "text/plain": [
       "[[6784054663.0, 7784054663.0],\n",
       " [6885438514.0, 7885438514.0],\n",
       " [6823180030.0, 7823180030.0],\n",
       " [6730756417.0, 7730756417.0],\n",
       " [6780310863.0, 7780310863.0],\n",
       " [6646993373.0, 7646993373.0],\n",
       " [6900652534.0, 7900652534.0]]"
      ]
     },
     "execution_count": 109,
     "metadata": {},
     "output_type": "execute_result"
    }
   ],
   "source": [
    "backend_config.meas_lo_range #  Measurement lo ranges for each qubit with form (min, max) in GHz."
   ]
  },
  {
   "cell_type": "code",
   "execution_count": 110,
   "metadata": {},
   "outputs": [
    {
     "data": {
      "text/plain": [
       "[[0, 1],\n",
       " [1, 0],\n",
       " [1, 2],\n",
       " [1, 3],\n",
       " [2, 1],\n",
       " [3, 1],\n",
       " [3, 5],\n",
       " [4, 5],\n",
       " [5, 3],\n",
       " [5, 4],\n",
       " [5, 6],\n",
       " [6, 5]]"
      ]
     },
     "execution_count": 110,
     "metadata": {},
     "output_type": "execute_result"
    }
   ],
   "source": [
    "backend_config.coupling_map # The coupling map for the device"
   ]
  },
  {
   "cell_type": "code",
   "execution_count": 111,
   "metadata": {},
   "outputs": [
    {
     "data": {
      "text/plain": [
       "'7 qubit device'"
      ]
     },
     "execution_count": 111,
     "metadata": {},
     "output_type": "execute_result"
    }
   ],
   "source": [
    "backend_config.description "
   ]
  },
  {
   "cell_type": "code",
   "execution_count": 112,
   "metadata": {},
   "outputs": [
    {
     "data": {
      "text/plain": [
       "{'acquire0': {'operates': {'qubits': [0]},\n",
       "  'purpose': 'acquire',\n",
       "  'type': 'acquire'},\n",
       " 'acquire1': {'operates': {'qubits': [1]},\n",
       "  'purpose': 'acquire',\n",
       "  'type': 'acquire'},\n",
       " 'acquire2': {'operates': {'qubits': [2]},\n",
       "  'purpose': 'acquire',\n",
       "  'type': 'acquire'},\n",
       " 'acquire3': {'operates': {'qubits': [3]},\n",
       "  'purpose': 'acquire',\n",
       "  'type': 'acquire'},\n",
       " 'acquire4': {'operates': {'qubits': [4]},\n",
       "  'purpose': 'acquire',\n",
       "  'type': 'acquire'},\n",
       " 'acquire5': {'operates': {'qubits': [5]},\n",
       "  'purpose': 'acquire',\n",
       "  'type': 'acquire'},\n",
       " 'acquire6': {'operates': {'qubits': [6]},\n",
       "  'purpose': 'acquire',\n",
       "  'type': 'acquire'},\n",
       " 'd0': {'operates': {'qubits': [0]}, 'purpose': 'drive', 'type': 'drive'},\n",
       " 'd1': {'operates': {'qubits': [1]}, 'purpose': 'drive', 'type': 'drive'},\n",
       " 'd2': {'operates': {'qubits': [2]}, 'purpose': 'drive', 'type': 'drive'},\n",
       " 'd3': {'operates': {'qubits': [3]}, 'purpose': 'drive', 'type': 'drive'},\n",
       " 'd4': {'operates': {'qubits': [4]}, 'purpose': 'drive', 'type': 'drive'},\n",
       " 'd5': {'operates': {'qubits': [5]}, 'purpose': 'drive', 'type': 'drive'},\n",
       " 'd6': {'operates': {'qubits': [6]}, 'purpose': 'drive', 'type': 'drive'},\n",
       " 'm0': {'operates': {'qubits': [0]}, 'purpose': 'measure', 'type': 'measure'},\n",
       " 'm1': {'operates': {'qubits': [1]}, 'purpose': 'measure', 'type': 'measure'},\n",
       " 'm2': {'operates': {'qubits': [2]}, 'purpose': 'measure', 'type': 'measure'},\n",
       " 'm3': {'operates': {'qubits': [3]}, 'purpose': 'measure', 'type': 'measure'},\n",
       " 'm4': {'operates': {'qubits': [4]}, 'purpose': 'measure', 'type': 'measure'},\n",
       " 'm5': {'operates': {'qubits': [5]}, 'purpose': 'measure', 'type': 'measure'},\n",
       " 'm6': {'operates': {'qubits': [6]}, 'purpose': 'measure', 'type': 'measure'},\n",
       " 'u0': {'operates': {'qubits': [0, 1]},\n",
       "  'purpose': 'cross-resonance',\n",
       "  'type': 'control'},\n",
       " 'u1': {'operates': {'qubits': [1, 0]},\n",
       "  'purpose': 'cross-resonance',\n",
       "  'type': 'control'},\n",
       " 'u10': {'operates': {'qubits': [5, 6]},\n",
       "  'purpose': 'cross-resonance',\n",
       "  'type': 'control'},\n",
       " 'u11': {'operates': {'qubits': [6, 5]},\n",
       "  'purpose': 'cross-resonance',\n",
       "  'type': 'control'},\n",
       " 'u2': {'operates': {'qubits': [1, 2]},\n",
       "  'purpose': 'cross-resonance',\n",
       "  'type': 'control'},\n",
       " 'u3': {'operates': {'qubits': [1, 3]},\n",
       "  'purpose': 'cross-resonance',\n",
       "  'type': 'control'},\n",
       " 'u4': {'operates': {'qubits': [2, 1]},\n",
       "  'purpose': 'cross-resonance',\n",
       "  'type': 'control'},\n",
       " 'u5': {'operates': {'qubits': [3, 1]},\n",
       "  'purpose': 'cross-resonance',\n",
       "  'type': 'control'},\n",
       " 'u6': {'operates': {'qubits': [3, 5]},\n",
       "  'purpose': 'cross-resonance',\n",
       "  'type': 'control'},\n",
       " 'u7': {'operates': {'qubits': [4, 5]},\n",
       "  'purpose': 'cross-resonance',\n",
       "  'type': 'control'},\n",
       " 'u8': {'operates': {'qubits': [5, 3]},\n",
       "  'purpose': 'cross-resonance',\n",
       "  'type': 'control'},\n",
       " 'u9': {'operates': {'qubits': [5, 4]},\n",
       "  'purpose': 'cross-resonance',\n",
       "  'type': 'control'}}"
      ]
     },
     "execution_count": 112,
     "metadata": {},
     "output_type": "execute_result"
    }
   ],
   "source": [
    "backend_config.channels"
   ]
  },
  {
   "cell_type": "code",
   "execution_count": 113,
   "metadata": {},
   "outputs": [
    {
     "data": {
      "text/plain": [
       "[[UchannelLO(1, (1+0j))],\n",
       " [UchannelLO(0, (1+0j))],\n",
       " [UchannelLO(2, (1+0j))],\n",
       " [UchannelLO(3, (1+0j))],\n",
       " [UchannelLO(1, (1+0j))],\n",
       " [UchannelLO(1, (1+0j))],\n",
       " [UchannelLO(5, (1+0j))],\n",
       " [UchannelLO(5, (1+0j))],\n",
       " [UchannelLO(3, (1+0j))],\n",
       " [UchannelLO(4, (1+0j))],\n",
       " [UchannelLO(6, (1+0j))],\n",
       " [UchannelLO(5, (1+0j))]]"
      ]
     },
     "execution_count": 113,
     "metadata": {},
     "output_type": "execute_result"
    }
   ],
   "source": [
    "backend_config.u_channel_lo  # U-channel relationship on device los."
   ]
  },
  {
   "cell_type": "code",
   "execution_count": 114,
   "metadata": {},
   "outputs": [],
   "source": [
    "def cx_pulse_instructions(qc: int, qt: int) -> Schedule:\n",
    "    \"\"\"Retrieve the CNOT pulse schedule for the given\n",
    "    qubit pair from the backend defaults.\n",
    "    \n",
    "    Args:\n",
    "      qc: control qubit index\n",
    "      qt: target qubit index\n",
    "    \"\"\"\n",
    "    if [qc, qt] not in backend_config.coupling_map:\n",
    "        print('Qubit pair has no direct cross resonance!')\n",
    "    else:\n",
    "        cx = inst_sched_map.get('cx', qubits=[qc, qt])\n",
    "        return cx\n",
    "    \n",
    "def get_cr_chan_inst(qc: int, qt: int) -> (ControlChannel, Waveform):\n",
    "    \"\"\"Retrieve the cross resonance pulse channel and waveform\n",
    "    for the qubit pair from the cx (CNOT) schedule.\n",
    "    \n",
    "    Args:\n",
    "      qc: control qubit index\n",
    "      qt: target qubit index\n",
    "    \"\"\"\n",
    "    cx = cx_pulse_instructions(qc, qt)\n",
    "    idx = 0\n",
    "    # look for first Play instruction on a ControlChannel\n",
    "    while (type(cx.instructions[idx][1].channels[0]) is not ControlChannel) or \\\n",
    "        (type(cx.instructions[idx][1]) is not Play):\n",
    "        idx += 1\n",
    "    return (cx.instructions[idx][1].channels[0], cx.instructions[idx][1].pulse)"
   ]
  },
  {
   "cell_type": "code",
   "execution_count": 115,
   "metadata": {},
   "outputs": [],
   "source": [
    "from collections import namedtuple\n",
    "\n",
    "ct_pair = namedtuple('ct_pair', \n",
    "                     ['target', # index number of target qubit\n",
    "                      'control', # index num of control qubit\n",
    "                     ])"
   ]
  },
  {
   "cell_type": "code",
   "execution_count": 116,
   "metadata": {},
   "outputs": [
    {
     "data": {
      "text/plain": [
       "{'c0t1': ct_pair(target=0, control=1),\n",
       " 'c1t0': ct_pair(target=1, control=0),\n",
       " 'c1t2': ct_pair(target=1, control=2),\n",
       " 'c1t3': ct_pair(target=1, control=3),\n",
       " 'c2t1': ct_pair(target=2, control=1),\n",
       " 'c3t1': ct_pair(target=3, control=1),\n",
       " 'c3t5': ct_pair(target=3, control=5),\n",
       " 'c4t5': ct_pair(target=4, control=5),\n",
       " 'c5t3': ct_pair(target=5, control=3),\n",
       " 'c5t4': ct_pair(target=5, control=4),\n",
       " 'c5t6': ct_pair(target=5, control=6),\n",
       " 'c6t5': ct_pair(target=6, control=5)}"
      ]
     },
     "execution_count": 116,
     "metadata": {},
     "output_type": "execute_result"
    }
   ],
   "source": [
    "couples = dict(zip([\"c\"+str(p[0]) +\"t\"+ str(p[1])for p in backend_config.coupling_map],\n",
    "         [ct_pair(p[0],p[1]) for p in backend_config.coupling_map]))\n",
    "\n",
    "couples"
   ]
  },
  {
   "cell_type": "code",
   "execution_count": 117,
   "metadata": {},
   "outputs": [],
   "source": [
    "controlchannel_pairing_dict = dict(zip( \n",
    "    [\"u\"+str(x) for x in range(backend_config.n_uchannels)],\n",
    "    [ct_pair(backend_config.channels.get(\"u\"+str(x)).get('operates').get('qubits')[0],\n",
    "             backend_config.channels.get(\"u\"+str(x)).get('operates').get('qubits')[1])\n",
    "             for x in range(backend_config.n_uchannels)]))"
   ]
  },
  {
   "cell_type": "code",
   "execution_count": 118,
   "metadata": {},
   "outputs": [
    {
     "data": {
      "text/plain": [
       "{'u0': ct_pair(target=0, control=1),\n",
       " 'u1': ct_pair(target=1, control=0),\n",
       " 'u2': ct_pair(target=1, control=2),\n",
       " 'u3': ct_pair(target=1, control=3),\n",
       " 'u4': ct_pair(target=2, control=1),\n",
       " 'u5': ct_pair(target=3, control=1),\n",
       " 'u6': ct_pair(target=3, control=5),\n",
       " 'u7': ct_pair(target=4, control=5),\n",
       " 'u8': ct_pair(target=5, control=3),\n",
       " 'u9': ct_pair(target=5, control=4),\n",
       " 'u10': ct_pair(target=5, control=6),\n",
       " 'u11': ct_pair(target=6, control=5)}"
      ]
     },
     "execution_count": 118,
     "metadata": {},
     "output_type": "execute_result"
    }
   ],
   "source": [
    "controlchannel_pairing_dict"
   ]
  },
  {
   "cell_type": "code",
   "execution_count": 119,
   "metadata": {},
   "outputs": [],
   "source": [
    "uchans, crpulses, cxinstructs, crparams, fake_direction\t = [],[],[],[],[]\n",
    "\n",
    "for pair in controlchannel_pairing_dict.values():\n",
    "    uc, crp = get_cr_chan_inst(pair.control, pair.target)\n",
    "    uchans.append(uc)\n",
    "    crpulses.append(crp)\n",
    "    crparams.append(crp.parameters)\n",
    "    cxins = cx_pulse_instructions(pair.control, pair.target)\n",
    "    cxinstructs.append(cxins)\n",
    "    # import part: figure out direction\n",
    "    fake_direction.append(len(cx_pulse_instructions(pair.control, \n",
    "                                                    pair.target))> len(cx_pulse_instructions(pair.target,pair.control)))"
   ]
  },
  {
   "cell_type": "code",
   "execution_count": 120,
   "metadata": {},
   "outputs": [
    {
     "name": "stdout",
     "output_type": "stream",
     "text": [
      "\n",
      " ControlChannel(1) irradites \n",
      " control qubit 1 with tone at frequency of target qubit 0 \n",
      "\t with CR pulse GaussianSquare(duration=880, amp=(0.09365219106688942+0.19751548267987415j), sigma=64, width=624)\n",
      "\n",
      " ControlChannel(5) irradites \n",
      " control qubit 3 with tone at frequency of target qubit 1 \n",
      "\t with CR pulse GaussianSquare(duration=560, amp=(-0.322719233320817-0.1620689803892814j), sigma=64, width=304)\n",
      "\n",
      " ControlChannel(2) irradites \n",
      " control qubit 1 with tone at frequency of target qubit 2 \n",
      "\t with CR pulse GaussianSquare(duration=736, amp=(0.6723040722694984+0.32361397301952594j), sigma=64, width=480)\n",
      "\n",
      " ControlChannel(8) irradites \n",
      " control qubit 5 with tone at frequency of target qubit 3 \n",
      "\t with CR pulse GaussianSquare(duration=736, amp=(0.20178039200998332-0.09406804656678261j), sigma=64, width=480)\n",
      "\n",
      " ControlChannel(9) irradites \n",
      " control qubit 5 with tone at frequency of target qubit 4 \n",
      "\t with CR pulse GaussianSquare(duration=656, amp=(-0.23413215649986446+0.12245186116846353j), sigma=64, width=400)\n",
      "\n",
      " ControlChannel(11) irradites \n",
      " control qubit 6 with tone at frequency of target qubit 5 \n",
      "\t with CR pulse GaussianSquare(duration=528, amp=(0.1396394251404549+0.41667710850146555j), sigma=64, width=272)\n"
     ]
    }
   ],
   "source": [
    "for pair in controlchannel_pairing_dict.values():\n",
    "    if len(cx_pulse_instructions(pair.control, pair.target)) < len(cx_pulse_instructions(pair.target, pair.control)):\n",
    "        uc, crp = get_cr_chan_inst(pair.control, pair.target)\n",
    "        print(\"\\n\",uc,\"irradites \\n control qubit\", pair.control, \n",
    "              \"with tone at frequency of target qubit\",pair.target,\"\\n\\t with CR pulse\",crp)"
   ]
  },
  {
   "cell_type": "code",
   "execution_count": 121,
   "metadata": {},
   "outputs": [],
   "source": [
    "# ControlChannel(5) irradites control qubit 3 with tone at frequency of target qubit 1 \n",
    "############### -> means channel 5 is connected to qubit 3"
   ]
  },
  {
   "cell_type": "code",
   "execution_count": 122,
   "metadata": {
    "scrolled": false
   },
   "outputs": [
    {
     "name": "stdout",
     "output_type": "stream",
     "text": [
      "\n",
      "\n",
      "\t ControlChannel(1) ct_pair(target=0, control=1)\n",
      "\n",
      "\tc_t_direction:\n",
      " Schedule((0, ShiftPhase(1.5707963267948966, DriveChannel(1))), (0, ShiftPhase(1.5707963267948966, ControlChannel(0))), (0, ShiftPhase(1.5707963267948966, ControlChannel(4))), (0, ShiftPhase(1.5707963267948966, ControlChannel(5))), (0, Play(Drag(duration=160, amp=(0.06550345092440805+0.0008497369754255958j), sigma=40, beta=-0.31868983573095205), DriveChannel(0))), (0, Play(Drag(duration=160, amp=(-3.304373512823692e-17-0.1798817158342757j), sigma=40, beta=-0.6347890146472998), DriveChannel(1))), (160, Play(GaussianSquare(duration=880, amp=(0.023929317826418883+0.0005539627235926305j), sigma=64, width=624), DriveChannel(0))), (160, Play(GaussianSquare(duration=880, amp=(0.09365219106688942+0.19751548267987415j), sigma=64, width=624), ControlChannel(1))), (1040, Play(Drag(duration=160, amp=(0.1798817158342757+0j), sigma=40, beta=-0.6347890146472998), DriveChannel(1))), (1200, Play(GaussianSquare(duration=880, amp=(-0.023929317826418883-0.0005539627235926276j), sigma=64, width=624), DriveChannel(0))), (1200, Play(GaussianSquare(duration=880, amp=(-0.09365219106688945-0.19751548267987415j), sigma=64, width=624), ControlChannel(1))), name=\"cx\")\n",
      "\n",
      "\tt_c_direction: \n",
      " Schedule((0, ShiftPhase(-3.141592653589793, DriveChannel(0))), (0, ShiftPhase(-1.5707963267948966, DriveChannel(1))), (0, ShiftPhase(-1.5707963267948966, ControlChannel(0))), (0, ShiftPhase(-3.141592653589793, ControlChannel(1))), (0, ShiftPhase(-1.5707963267948966, ControlChannel(4))), (0, ShiftPhase(-1.5707963267948966, ControlChannel(5))), (0, Play(Drag(duration=160, amp=(-0.0008497369754255853+0.06550345092440805j), sigma=40, beta=-0.31868983573095205), DriveChannel(0))), (0, Play(Drag(duration=160, amp=(0.08992472142718148+0.001541531510572565j), sigma=40, beta=-0.6230081167360391), DriveChannel(1))), (160, Play(GaussianSquare(duration=880, amp=(0.023929317826418883+0.0005539627235926305j), sigma=64, width=624), DriveChannel(0))), (160, Play(GaussianSquare(duration=880, amp=(0.09365219106688942+0.19751548267987415j), sigma=64, width=624), ControlChannel(1))), (1040, Play(Drag(duration=160, amp=(0.1798817158342757+0j), sigma=40, beta=-0.6347890146472998), DriveChannel(1))), (1200, Play(GaussianSquare(duration=880, amp=(-0.023929317826418883-0.0005539627235926276j), sigma=64, width=624), DriveChannel(0))), (1200, Play(GaussianSquare(duration=880, amp=(-0.09365219106688945-0.19751548267987415j), sigma=64, width=624), ControlChannel(1))), (2080, ShiftPhase(-1.5707963267948966, DriveChannel(0))), (2080, ShiftPhase(-1.5707963267948966, ControlChannel(1))), (2080, Play(Drag(duration=160, amp=(0.06550345092440805+0.0008497369754255958j), sigma=40, beta=-0.31868983573095205), DriveChannel(0))), (2080, Play(Drag(duration=160, amp=(0.0015415315105725392-0.08992472142718148j), sigma=40, beta=-0.6230081167360391), DriveChannel(1))), name=\"cx\")\n",
      "\n",
      "\n",
      "\t ControlChannel(1) ct_pair(target=1, control=0)\n",
      "\n",
      "\tc_t_direction:\n",
      " Schedule((0, ShiftPhase(-3.141592653589793, DriveChannel(0))), (0, ShiftPhase(-1.5707963267948966, DriveChannel(1))), (0, ShiftPhase(-1.5707963267948966, ControlChannel(0))), (0, ShiftPhase(-3.141592653589793, ControlChannel(1))), (0, ShiftPhase(-1.5707963267948966, ControlChannel(4))), (0, ShiftPhase(-1.5707963267948966, ControlChannel(5))), (0, Play(Drag(duration=160, amp=(-0.0008497369754255853+0.06550345092440805j), sigma=40, beta=-0.31868983573095205), DriveChannel(0))), (0, Play(Drag(duration=160, amp=(0.08992472142718148+0.001541531510572565j), sigma=40, beta=-0.6230081167360391), DriveChannel(1))), (160, Play(GaussianSquare(duration=880, amp=(0.023929317826418883+0.0005539627235926305j), sigma=64, width=624), DriveChannel(0))), (160, Play(GaussianSquare(duration=880, amp=(0.09365219106688942+0.19751548267987415j), sigma=64, width=624), ControlChannel(1))), (1040, Play(Drag(duration=160, amp=(0.1798817158342757+0j), sigma=40, beta=-0.6347890146472998), DriveChannel(1))), (1200, Play(GaussianSquare(duration=880, amp=(-0.023929317826418883-0.0005539627235926276j), sigma=64, width=624), DriveChannel(0))), (1200, Play(GaussianSquare(duration=880, amp=(-0.09365219106688945-0.19751548267987415j), sigma=64, width=624), ControlChannel(1))), (2080, ShiftPhase(-1.5707963267948966, DriveChannel(0))), (2080, ShiftPhase(-1.5707963267948966, ControlChannel(1))), (2080, Play(Drag(duration=160, amp=(0.06550345092440805+0.0008497369754255958j), sigma=40, beta=-0.31868983573095205), DriveChannel(0))), (2080, Play(Drag(duration=160, amp=(0.0015415315105725392-0.08992472142718148j), sigma=40, beta=-0.6230081167360391), DriveChannel(1))), name=\"cx\")\n",
      "\n",
      "\tt_c_direction: \n",
      " Schedule((0, ShiftPhase(1.5707963267948966, DriveChannel(1))), (0, ShiftPhase(1.5707963267948966, ControlChannel(0))), (0, ShiftPhase(1.5707963267948966, ControlChannel(4))), (0, ShiftPhase(1.5707963267948966, ControlChannel(5))), (0, Play(Drag(duration=160, amp=(0.06550345092440805+0.0008497369754255958j), sigma=40, beta=-0.31868983573095205), DriveChannel(0))), (0, Play(Drag(duration=160, amp=(-3.304373512823692e-17-0.1798817158342757j), sigma=40, beta=-0.6347890146472998), DriveChannel(1))), (160, Play(GaussianSquare(duration=880, amp=(0.023929317826418883+0.0005539627235926305j), sigma=64, width=624), DriveChannel(0))), (160, Play(GaussianSquare(duration=880, amp=(0.09365219106688942+0.19751548267987415j), sigma=64, width=624), ControlChannel(1))), (1040, Play(Drag(duration=160, amp=(0.1798817158342757+0j), sigma=40, beta=-0.6347890146472998), DriveChannel(1))), (1200, Play(GaussianSquare(duration=880, amp=(-0.023929317826418883-0.0005539627235926276j), sigma=64, width=624), DriveChannel(0))), (1200, Play(GaussianSquare(duration=880, amp=(-0.09365219106688945-0.19751548267987415j), sigma=64, width=624), ControlChannel(1))), name=\"cx\")\n",
      "\n",
      "\n",
      "\t ControlChannel(2) ct_pair(target=1, control=2)\n",
      "\n",
      "\tc_t_direction:\n",
      " Schedule((0, ShiftPhase(-1.5707963267948966, DriveChannel(1))), (0, ShiftPhase(-3.141592653589793, DriveChannel(2))), (0, ShiftPhase(-1.5707963267948966, ControlChannel(0))), (0, ShiftPhase(-3.141592653589793, ControlChannel(2))), (0, ShiftPhase(-1.5707963267948966, ControlChannel(4))), (0, ShiftPhase(-1.5707963267948966, ControlChannel(5))), (0, Play(Drag(duration=160, amp=(0.08992472142718148+0.001541531510572565j), sigma=40, beta=-0.6230081167360391), DriveChannel(1))), (0, Play(Drag(duration=160, amp=(-0.001473937573878101+0.06619547637446677j), sigma=40, beta=-0.895693695219398), DriveChannel(2))), (160, Play(GaussianSquare(duration=736, amp=(0.03130014021604089+0.0007399112577951616j), sigma=64, width=480), DriveChannel(2))), (160, Play(GaussianSquare(duration=736, amp=(0.6723040722694984+0.32361397301952594j), sigma=64, width=480), ControlChannel(2))), (896, Play(Drag(duration=160, amp=(0.1798817158342757+0j), sigma=40, beta=-0.6347890146472998), DriveChannel(1))), (1056, Play(GaussianSquare(duration=736, amp=(-0.03130014021604089-0.0007399112577951578j), sigma=64, width=480), DriveChannel(2))), (1056, Play(GaussianSquare(duration=736, amp=(-0.6723040722694984-0.3236139730195259j), sigma=64, width=480), ControlChannel(2))), (1792, ShiftPhase(-1.5707963267948966, DriveChannel(2))), (1792, ShiftPhase(-1.5707963267948966, ControlChannel(2))), (1792, Play(Drag(duration=160, amp=(0.0015415315105725392-0.08992472142718148j), sigma=40, beta=-0.6230081167360391), DriveChannel(1))), (1792, Play(Drag(duration=160, amp=(0.06619547637446677+0.0014739375738781122j), sigma=40, beta=-0.895693695219398), DriveChannel(2))), name=\"cx\")\n",
      "\n",
      "\tt_c_direction: \n",
      " Schedule((0, ShiftPhase(1.5707963267948966, DriveChannel(1))), (0, ShiftPhase(1.5707963267948966, ControlChannel(0))), (0, ShiftPhase(1.5707963267948966, ControlChannel(4))), (0, ShiftPhase(1.5707963267948966, ControlChannel(5))), (0, Play(Drag(duration=160, amp=(-3.304373512823692e-17-0.1798817158342757j), sigma=40, beta=-0.6347890146472998), DriveChannel(1))), (0, Play(Drag(duration=160, amp=(0.06619547637446677+0.0014739375738781122j), sigma=40, beta=-0.895693695219398), DriveChannel(2))), (160, Play(GaussianSquare(duration=736, amp=(0.03130014021604089+0.0007399112577951616j), sigma=64, width=480), DriveChannel(2))), (160, Play(GaussianSquare(duration=736, amp=(0.6723040722694984+0.32361397301952594j), sigma=64, width=480), ControlChannel(2))), (896, Play(Drag(duration=160, amp=(0.1798817158342757+0j), sigma=40, beta=-0.6347890146472998), DriveChannel(1))), (1056, Play(GaussianSquare(duration=736, amp=(-0.03130014021604089-0.0007399112577951578j), sigma=64, width=480), DriveChannel(2))), (1056, Play(GaussianSquare(duration=736, amp=(-0.6723040722694984-0.3236139730195259j), sigma=64, width=480), ControlChannel(2))), name=\"cx\")\n",
      "\n",
      "\n",
      "\t ControlChannel(5) ct_pair(target=1, control=3)\n",
      "\n",
      "\tc_t_direction:\n",
      " Schedule((0, ShiftPhase(1.5707963267948966, DriveChannel(3))), (0, ShiftPhase(1.5707963267948966, ControlChannel(3))), (0, ShiftPhase(1.5707963267948966, ControlChannel(8))), (0, Play(Drag(duration=160, amp=(0.08992472142718148+0.001541531510572565j), sigma=40, beta=-0.6230081167360391), DriveChannel(1))), (0, Play(Drag(duration=160, amp=(-2.2308633091678717e-17-0.12144254222093999j), sigma=40, beta=-1.5200016229542983), DriveChannel(3))), (160, Play(GaussianSquare(duration=560, amp=(0.04981485613040625+0.0022553644722246536j), sigma=64, width=304), DriveChannel(1))), (160, Play(GaussianSquare(duration=560, amp=(-0.322719233320817-0.1620689803892814j), sigma=64, width=304), ControlChannel(5))), (720, Play(Drag(duration=160, amp=(0.12144254222093999+0j), sigma=40, beta=-1.5200016229542983), DriveChannel(3))), (880, Play(GaussianSquare(duration=560, amp=(-0.04981485613040625-0.0022553644722246476j), sigma=64, width=304), DriveChannel(1))), (880, Play(GaussianSquare(duration=560, amp=(0.322719233320817+0.16206898038928136j), sigma=64, width=304), ControlChannel(5))), name=\"cx\")\n",
      "\n",
      "\tt_c_direction: \n",
      " Schedule((0, ShiftPhase(-3.141592653589793, DriveChannel(1))), (0, ShiftPhase(-1.5707963267948966, DriveChannel(3))), (0, ShiftPhase(-3.141592653589793, ControlChannel(0))), (0, ShiftPhase(-1.5707963267948966, ControlChannel(3))), (0, ShiftPhase(-3.141592653589793, ControlChannel(4))), (0, ShiftPhase(-3.141592653589793, ControlChannel(5))), (0, ShiftPhase(-1.5707963267948966, ControlChannel(8))), (0, Play(Drag(duration=160, amp=(-0.00154153151057255+0.08992472142718148j), sigma=40, beta=-0.6230081167360391), DriveChannel(1))), (0, Play(Drag(duration=160, amp=(0.06047360474124443+0.0011001306925128114j), sigma=40, beta=-1.5134970823969918), DriveChannel(3))), (160, Play(GaussianSquare(duration=560, amp=(0.04981485613040625+0.0022553644722246536j), sigma=64, width=304), DriveChannel(1))), (160, Play(GaussianSquare(duration=560, amp=(-0.322719233320817-0.1620689803892814j), sigma=64, width=304), ControlChannel(5))), (720, Play(Drag(duration=160, amp=(0.12144254222093999+0j), sigma=40, beta=-1.5200016229542983), DriveChannel(3))), (880, Play(GaussianSquare(duration=560, amp=(-0.04981485613040625-0.0022553644722246476j), sigma=64, width=304), DriveChannel(1))), (880, Play(GaussianSquare(duration=560, amp=(0.322719233320817+0.16206898038928136j), sigma=64, width=304), ControlChannel(5))), (1440, ShiftPhase(-1.5707963267948966, DriveChannel(1))), (1440, ShiftPhase(-1.5707963267948966, ControlChannel(0))), (1440, ShiftPhase(-1.5707963267948966, ControlChannel(4))), (1440, ShiftPhase(-1.5707963267948966, ControlChannel(5))), (1440, Play(Drag(duration=160, amp=(0.08992472142718148+0.001541531510572565j), sigma=40, beta=-0.6230081167360391), DriveChannel(1))), (1440, Play(Drag(duration=160, amp=(0.0011001306925128157-0.06047360474124443j), sigma=40, beta=-1.5134970823969918), DriveChannel(3))), name=\"cx\")\n",
      "\n",
      "\n",
      "\t ControlChannel(2) ct_pair(target=2, control=1)\n",
      "\n",
      "\tc_t_direction:\n",
      " Schedule((0, ShiftPhase(1.5707963267948966, DriveChannel(1))), (0, ShiftPhase(1.5707963267948966, ControlChannel(0))), (0, ShiftPhase(1.5707963267948966, ControlChannel(4))), (0, ShiftPhase(1.5707963267948966, ControlChannel(5))), (0, Play(Drag(duration=160, amp=(-3.304373512823692e-17-0.1798817158342757j), sigma=40, beta=-0.6347890146472998), DriveChannel(1))), (0, Play(Drag(duration=160, amp=(0.06619547637446677+0.0014739375738781122j), sigma=40, beta=-0.895693695219398), DriveChannel(2))), (160, Play(GaussianSquare(duration=736, amp=(0.03130014021604089+0.0007399112577951616j), sigma=64, width=480), DriveChannel(2))), (160, Play(GaussianSquare(duration=736, amp=(0.6723040722694984+0.32361397301952594j), sigma=64, width=480), ControlChannel(2))), (896, Play(Drag(duration=160, amp=(0.1798817158342757+0j), sigma=40, beta=-0.6347890146472998), DriveChannel(1))), (1056, Play(GaussianSquare(duration=736, amp=(-0.03130014021604089-0.0007399112577951578j), sigma=64, width=480), DriveChannel(2))), (1056, Play(GaussianSquare(duration=736, amp=(-0.6723040722694984-0.3236139730195259j), sigma=64, width=480), ControlChannel(2))), name=\"cx\")\n",
      "\n",
      "\tt_c_direction: \n",
      " Schedule((0, ShiftPhase(-1.5707963267948966, DriveChannel(1))), (0, ShiftPhase(-3.141592653589793, DriveChannel(2))), (0, ShiftPhase(-1.5707963267948966, ControlChannel(0))), (0, ShiftPhase(-3.141592653589793, ControlChannel(2))), (0, ShiftPhase(-1.5707963267948966, ControlChannel(4))), (0, ShiftPhase(-1.5707963267948966, ControlChannel(5))), (0, Play(Drag(duration=160, amp=(0.08992472142718148+0.001541531510572565j), sigma=40, beta=-0.6230081167360391), DriveChannel(1))), (0, Play(Drag(duration=160, amp=(-0.001473937573878101+0.06619547637446677j), sigma=40, beta=-0.895693695219398), DriveChannel(2))), (160, Play(GaussianSquare(duration=736, amp=(0.03130014021604089+0.0007399112577951616j), sigma=64, width=480), DriveChannel(2))), (160, Play(GaussianSquare(duration=736, amp=(0.6723040722694984+0.32361397301952594j), sigma=64, width=480), ControlChannel(2))), (896, Play(Drag(duration=160, amp=(0.1798817158342757+0j), sigma=40, beta=-0.6347890146472998), DriveChannel(1))), (1056, Play(GaussianSquare(duration=736, amp=(-0.03130014021604089-0.0007399112577951578j), sigma=64, width=480), DriveChannel(2))), (1056, Play(GaussianSquare(duration=736, amp=(-0.6723040722694984-0.3236139730195259j), sigma=64, width=480), ControlChannel(2))), (1792, ShiftPhase(-1.5707963267948966, DriveChannel(2))), (1792, ShiftPhase(-1.5707963267948966, ControlChannel(2))), (1792, Play(Drag(duration=160, amp=(0.0015415315105725392-0.08992472142718148j), sigma=40, beta=-0.6230081167360391), DriveChannel(1))), (1792, Play(Drag(duration=160, amp=(0.06619547637446677+0.0014739375738781122j), sigma=40, beta=-0.895693695219398), DriveChannel(2))), name=\"cx\")\n",
      "\n",
      "\n",
      "\t ControlChannel(5) ct_pair(target=3, control=1)\n",
      "\n",
      "\tc_t_direction:\n",
      " Schedule((0, ShiftPhase(-3.141592653589793, DriveChannel(1))), (0, ShiftPhase(-1.5707963267948966, DriveChannel(3))), (0, ShiftPhase(-3.141592653589793, ControlChannel(0))), (0, ShiftPhase(-1.5707963267948966, ControlChannel(3))), (0, ShiftPhase(-3.141592653589793, ControlChannel(4))), (0, ShiftPhase(-3.141592653589793, ControlChannel(5))), (0, ShiftPhase(-1.5707963267948966, ControlChannel(8))), (0, Play(Drag(duration=160, amp=(-0.00154153151057255+0.08992472142718148j), sigma=40, beta=-0.6230081167360391), DriveChannel(1))), (0, Play(Drag(duration=160, amp=(0.06047360474124443+0.0011001306925128114j), sigma=40, beta=-1.5134970823969918), DriveChannel(3))), (160, Play(GaussianSquare(duration=560, amp=(0.04981485613040625+0.0022553644722246536j), sigma=64, width=304), DriveChannel(1))), (160, Play(GaussianSquare(duration=560, amp=(-0.322719233320817-0.1620689803892814j), sigma=64, width=304), ControlChannel(5))), (720, Play(Drag(duration=160, amp=(0.12144254222093999+0j), sigma=40, beta=-1.5200016229542983), DriveChannel(3))), (880, Play(GaussianSquare(duration=560, amp=(-0.04981485613040625-0.0022553644722246476j), sigma=64, width=304), DriveChannel(1))), (880, Play(GaussianSquare(duration=560, amp=(0.322719233320817+0.16206898038928136j), sigma=64, width=304), ControlChannel(5))), (1440, ShiftPhase(-1.5707963267948966, DriveChannel(1))), (1440, ShiftPhase(-1.5707963267948966, ControlChannel(0))), (1440, ShiftPhase(-1.5707963267948966, ControlChannel(4))), (1440, ShiftPhase(-1.5707963267948966, ControlChannel(5))), (1440, Play(Drag(duration=160, amp=(0.08992472142718148+0.001541531510572565j), sigma=40, beta=-0.6230081167360391), DriveChannel(1))), (1440, Play(Drag(duration=160, amp=(0.0011001306925128157-0.06047360474124443j), sigma=40, beta=-1.5134970823969918), DriveChannel(3))), name=\"cx\")\n",
      "\n",
      "\tt_c_direction: \n",
      " Schedule((0, ShiftPhase(1.5707963267948966, DriveChannel(3))), (0, ShiftPhase(1.5707963267948966, ControlChannel(3))), (0, ShiftPhase(1.5707963267948966, ControlChannel(8))), (0, Play(Drag(duration=160, amp=(0.08992472142718148+0.001541531510572565j), sigma=40, beta=-0.6230081167360391), DriveChannel(1))), (0, Play(Drag(duration=160, amp=(-2.2308633091678717e-17-0.12144254222093999j), sigma=40, beta=-1.5200016229542983), DriveChannel(3))), (160, Play(GaussianSquare(duration=560, amp=(0.04981485613040625+0.0022553644722246536j), sigma=64, width=304), DriveChannel(1))), (160, Play(GaussianSquare(duration=560, amp=(-0.322719233320817-0.1620689803892814j), sigma=64, width=304), ControlChannel(5))), (720, Play(Drag(duration=160, amp=(0.12144254222093999+0j), sigma=40, beta=-1.5200016229542983), DriveChannel(3))), (880, Play(GaussianSquare(duration=560, amp=(-0.04981485613040625-0.0022553644722246476j), sigma=64, width=304), DriveChannel(1))), (880, Play(GaussianSquare(duration=560, amp=(0.322719233320817+0.16206898038928136j), sigma=64, width=304), ControlChannel(5))), name=\"cx\")\n",
      "\n",
      "\n",
      "\t ControlChannel(8) ct_pair(target=3, control=5)\n",
      "\n",
      "\tc_t_direction:\n",
      " Schedule((0, ShiftPhase(1.5707963267948966, DriveChannel(5))), (0, ShiftPhase(1.5707963267948966, ControlChannel(11))), (0, ShiftPhase(1.5707963267948966, ControlChannel(6))), (0, ShiftPhase(1.5707963267948966, ControlChannel(7))), (0, Play(Drag(duration=160, amp=(0.06047360474124443+0.0011001306925128114j), sigma=40, beta=-1.5134970823969918), DriveChannel(3))), (0, Play(Drag(duration=160, amp=(-3.1950215342556764e-17-0.17392887138180985j), sigma=40, beta=0.4861591104177763), DriveChannel(5))), (160, Play(GaussianSquare(duration=736, amp=(0.029062905309060437+0.0013897895391088468j), sigma=64, width=480), DriveChannel(3))), (160, Play(GaussianSquare(duration=736, amp=(0.20178039200998332-0.09406804656678261j), sigma=64, width=480), ControlChannel(8))), (896, Play(Drag(duration=160, amp=(0.17392887138180985+0j), sigma=40, beta=0.4861591104177763), DriveChannel(5))), (1056, Play(GaussianSquare(duration=736, amp=(-0.029062905309060437-0.0013897895391088433j), sigma=64, width=480), DriveChannel(3))), (1056, Play(GaussianSquare(duration=736, amp=(-0.20178039200998332+0.09406804656678264j), sigma=64, width=480), ControlChannel(8))), name=\"cx\")\n",
      "\n",
      "\tt_c_direction: \n",
      " Schedule((0, ShiftPhase(-3.141592653589793, DriveChannel(3))), (0, ShiftPhase(-1.5707963267948966, DriveChannel(5))), (0, ShiftPhase(-1.5707963267948966, ControlChannel(11))), (0, ShiftPhase(-3.141592653589793, ControlChannel(3))), (0, ShiftPhase(-1.5707963267948966, ControlChannel(6))), (0, ShiftPhase(-1.5707963267948966, ControlChannel(7))), (0, ShiftPhase(-3.141592653589793, ControlChannel(8))), (0, Play(Drag(duration=160, amp=(-0.0011001306925128098+0.06047360474124443j), sigma=40, beta=-1.5134970823969918), DriveChannel(3))), (0, Play(Drag(duration=160, amp=(0.08703611831182967+0.0007723975595079783j), sigma=40, beta=0.5191721750002518), DriveChannel(5))), (160, Play(GaussianSquare(duration=736, amp=(0.029062905309060437+0.0013897895391088468j), sigma=64, width=480), DriveChannel(3))), (160, Play(GaussianSquare(duration=736, amp=(0.20178039200998332-0.09406804656678261j), sigma=64, width=480), ControlChannel(8))), (896, Play(Drag(duration=160, amp=(0.17392887138180985+0j), sigma=40, beta=0.4861591104177763), DriveChannel(5))), (1056, Play(GaussianSquare(duration=736, amp=(-0.029062905309060437-0.0013897895391088433j), sigma=64, width=480), DriveChannel(3))), (1056, Play(GaussianSquare(duration=736, amp=(-0.20178039200998332+0.09406804656678264j), sigma=64, width=480), ControlChannel(8))), (1792, ShiftPhase(-1.5707963267948966, DriveChannel(3))), (1792, ShiftPhase(-1.5707963267948966, ControlChannel(3))), (1792, ShiftPhase(-1.5707963267948966, ControlChannel(8))), (1792, Play(Drag(duration=160, amp=(0.06047360474124443+0.0011001306925128114j), sigma=40, beta=-1.5134970823969918), DriveChannel(3))), (1792, Play(Drag(duration=160, amp=(0.0007723975595079796-0.08703611831182967j), sigma=40, beta=0.5191721750002518), DriveChannel(5))), name=\"cx\")\n",
      "\n",
      "\n",
      "\t ControlChannel(9) ct_pair(target=4, control=5)\n",
      "\n",
      "\tc_t_direction:\n",
      " Schedule((0, ShiftPhase(1.5707963267948966, DriveChannel(5))), (0, ShiftPhase(1.5707963267948966, ControlChannel(11))), (0, ShiftPhase(1.5707963267948966, ControlChannel(6))), (0, ShiftPhase(1.5707963267948966, ControlChannel(7))), (0, Play(Drag(duration=160, amp=(0.06323303062879303+0.0013321075062673615j), sigma=40, beta=-1.534686549634619), DriveChannel(4))), (0, Play(Drag(duration=160, amp=(-3.1950215342556764e-17-0.17392887138180985j), sigma=40, beta=0.4861591104177763), DriveChannel(5))), (160, Play(GaussianSquare(duration=656, amp=(0.034928089120972776+0.0018267360127315973j), sigma=64, width=400), DriveChannel(4))), (160, Play(GaussianSquare(duration=656, amp=(-0.23413215649986446+0.12245186116846353j), sigma=64, width=400), ControlChannel(9))), (816, Play(Drag(duration=160, amp=(0.17392887138180985+0j), sigma=40, beta=0.4861591104177763), DriveChannel(5))), (976, Play(GaussianSquare(duration=656, amp=(-0.034928089120972776-0.001826736012731593j), sigma=64, width=400), DriveChannel(4))), (976, Play(GaussianSquare(duration=656, amp=(0.23413215649986444-0.12245186116846356j), sigma=64, width=400), ControlChannel(9))), name=\"cx\")\n",
      "\n",
      "\tt_c_direction: \n",
      " Schedule((0, ShiftPhase(-3.141592653589793, DriveChannel(4))), (0, ShiftPhase(-1.5707963267948966, DriveChannel(5))), (0, ShiftPhase(-1.5707963267948966, ControlChannel(11))), (0, ShiftPhase(-1.5707963267948966, ControlChannel(6))), (0, ShiftPhase(-1.5707963267948966, ControlChannel(7))), (0, ShiftPhase(-3.141592653589793, ControlChannel(9))), (0, Play(Drag(duration=160, amp=(-0.0013321075062673637+0.06323303062879303j), sigma=40, beta=-1.534686549634619), DriveChannel(4))), (0, Play(Drag(duration=160, amp=(0.08703611831182967+0.0007723975595079783j), sigma=40, beta=0.5191721750002518), DriveChannel(5))), (160, Play(GaussianSquare(duration=656, amp=(0.034928089120972776+0.0018267360127315973j), sigma=64, width=400), DriveChannel(4))), (160, Play(GaussianSquare(duration=656, amp=(-0.23413215649986446+0.12245186116846353j), sigma=64, width=400), ControlChannel(9))), (816, Play(Drag(duration=160, amp=(0.17392887138180985+0j), sigma=40, beta=0.4861591104177763), DriveChannel(5))), (976, Play(GaussianSquare(duration=656, amp=(-0.034928089120972776-0.001826736012731593j), sigma=64, width=400), DriveChannel(4))), (976, Play(GaussianSquare(duration=656, amp=(0.23413215649986444-0.12245186116846356j), sigma=64, width=400), ControlChannel(9))), (1632, ShiftPhase(-1.5707963267948966, DriveChannel(4))), (1632, ShiftPhase(-1.5707963267948966, ControlChannel(9))), (1632, Play(Drag(duration=160, amp=(0.06323303062879303+0.0013321075062673615j), sigma=40, beta=-1.534686549634619), DriveChannel(4))), (1632, Play(Drag(duration=160, amp=(0.0007723975595079796-0.08703611831182967j), sigma=40, beta=0.5191721750002518), DriveChannel(5))), name=\"cx\")\n",
      "\n",
      "\n",
      "\t ControlChannel(8) ct_pair(target=5, control=3)\n",
      "\n",
      "\tc_t_direction:\n",
      " Schedule((0, ShiftPhase(-3.141592653589793, DriveChannel(3))), (0, ShiftPhase(-1.5707963267948966, DriveChannel(5))), (0, ShiftPhase(-1.5707963267948966, ControlChannel(11))), (0, ShiftPhase(-3.141592653589793, ControlChannel(3))), (0, ShiftPhase(-1.5707963267948966, ControlChannel(6))), (0, ShiftPhase(-1.5707963267948966, ControlChannel(7))), (0, ShiftPhase(-3.141592653589793, ControlChannel(8))), (0, Play(Drag(duration=160, amp=(-0.0011001306925128098+0.06047360474124443j), sigma=40, beta=-1.5134970823969918), DriveChannel(3))), (0, Play(Drag(duration=160, amp=(0.08703611831182967+0.0007723975595079783j), sigma=40, beta=0.5191721750002518), DriveChannel(5))), (160, Play(GaussianSquare(duration=736, amp=(0.029062905309060437+0.0013897895391088468j), sigma=64, width=480), DriveChannel(3))), (160, Play(GaussianSquare(duration=736, amp=(0.20178039200998332-0.09406804656678261j), sigma=64, width=480), ControlChannel(8))), (896, Play(Drag(duration=160, amp=(0.17392887138180985+0j), sigma=40, beta=0.4861591104177763), DriveChannel(5))), (1056, Play(GaussianSquare(duration=736, amp=(-0.029062905309060437-0.0013897895391088433j), sigma=64, width=480), DriveChannel(3))), (1056, Play(GaussianSquare(duration=736, amp=(-0.20178039200998332+0.09406804656678264j), sigma=64, width=480), ControlChannel(8))), (1792, ShiftPhase(-1.5707963267948966, DriveChannel(3))), (1792, ShiftPhase(-1.5707963267948966, ControlChannel(3))), (1792, ShiftPhase(-1.5707963267948966, ControlChannel(8))), (1792, Play(Drag(duration=160, amp=(0.06047360474124443+0.0011001306925128114j), sigma=40, beta=-1.5134970823969918), DriveChannel(3))), (1792, Play(Drag(duration=160, amp=(0.0007723975595079796-0.08703611831182967j), sigma=40, beta=0.5191721750002518), DriveChannel(5))), name=\"cx\")\n",
      "\n",
      "\tt_c_direction: \n",
      " Schedule((0, ShiftPhase(1.5707963267948966, DriveChannel(5))), (0, ShiftPhase(1.5707963267948966, ControlChannel(11))), (0, ShiftPhase(1.5707963267948966, ControlChannel(6))), (0, ShiftPhase(1.5707963267948966, ControlChannel(7))), (0, Play(Drag(duration=160, amp=(0.06047360474124443+0.0011001306925128114j), sigma=40, beta=-1.5134970823969918), DriveChannel(3))), (0, Play(Drag(duration=160, amp=(-3.1950215342556764e-17-0.17392887138180985j), sigma=40, beta=0.4861591104177763), DriveChannel(5))), (160, Play(GaussianSquare(duration=736, amp=(0.029062905309060437+0.0013897895391088468j), sigma=64, width=480), DriveChannel(3))), (160, Play(GaussianSquare(duration=736, amp=(0.20178039200998332-0.09406804656678261j), sigma=64, width=480), ControlChannel(8))), (896, Play(Drag(duration=160, amp=(0.17392887138180985+0j), sigma=40, beta=0.4861591104177763), DriveChannel(5))), (1056, Play(GaussianSquare(duration=736, amp=(-0.029062905309060437-0.0013897895391088433j), sigma=64, width=480), DriveChannel(3))), (1056, Play(GaussianSquare(duration=736, amp=(-0.20178039200998332+0.09406804656678264j), sigma=64, width=480), ControlChannel(8))), name=\"cx\")\n",
      "\n",
      "\n",
      "\t ControlChannel(9) ct_pair(target=5, control=4)\n",
      "\n",
      "\tc_t_direction:\n",
      " Schedule((0, ShiftPhase(-3.141592653589793, DriveChannel(4))), (0, ShiftPhase(-1.5707963267948966, DriveChannel(5))), (0, ShiftPhase(-1.5707963267948966, ControlChannel(11))), (0, ShiftPhase(-1.5707963267948966, ControlChannel(6))), (0, ShiftPhase(-1.5707963267948966, ControlChannel(7))), (0, ShiftPhase(-3.141592653589793, ControlChannel(9))), (0, Play(Drag(duration=160, amp=(-0.0013321075062673637+0.06323303062879303j), sigma=40, beta=-1.534686549634619), DriveChannel(4))), (0, Play(Drag(duration=160, amp=(0.08703611831182967+0.0007723975595079783j), sigma=40, beta=0.5191721750002518), DriveChannel(5))), (160, Play(GaussianSquare(duration=656, amp=(0.034928089120972776+0.0018267360127315973j), sigma=64, width=400), DriveChannel(4))), (160, Play(GaussianSquare(duration=656, amp=(-0.23413215649986446+0.12245186116846353j), sigma=64, width=400), ControlChannel(9))), (816, Play(Drag(duration=160, amp=(0.17392887138180985+0j), sigma=40, beta=0.4861591104177763), DriveChannel(5))), (976, Play(GaussianSquare(duration=656, amp=(-0.034928089120972776-0.001826736012731593j), sigma=64, width=400), DriveChannel(4))), (976, Play(GaussianSquare(duration=656, amp=(0.23413215649986444-0.12245186116846356j), sigma=64, width=400), ControlChannel(9))), (1632, ShiftPhase(-1.5707963267948966, DriveChannel(4))), (1632, ShiftPhase(-1.5707963267948966, ControlChannel(9))), (1632, Play(Drag(duration=160, amp=(0.06323303062879303+0.0013321075062673615j), sigma=40, beta=-1.534686549634619), DriveChannel(4))), (1632, Play(Drag(duration=160, amp=(0.0007723975595079796-0.08703611831182967j), sigma=40, beta=0.5191721750002518), DriveChannel(5))), name=\"cx\")\n",
      "\n",
      "\tt_c_direction: \n",
      " Schedule((0, ShiftPhase(1.5707963267948966, DriveChannel(5))), (0, ShiftPhase(1.5707963267948966, ControlChannel(11))), (0, ShiftPhase(1.5707963267948966, ControlChannel(6))), (0, ShiftPhase(1.5707963267948966, ControlChannel(7))), (0, Play(Drag(duration=160, amp=(0.06323303062879303+0.0013321075062673615j), sigma=40, beta=-1.534686549634619), DriveChannel(4))), (0, Play(Drag(duration=160, amp=(-3.1950215342556764e-17-0.17392887138180985j), sigma=40, beta=0.4861591104177763), DriveChannel(5))), (160, Play(GaussianSquare(duration=656, amp=(0.034928089120972776+0.0018267360127315973j), sigma=64, width=400), DriveChannel(4))), (160, Play(GaussianSquare(duration=656, amp=(-0.23413215649986446+0.12245186116846353j), sigma=64, width=400), ControlChannel(9))), (816, Play(Drag(duration=160, amp=(0.17392887138180985+0j), sigma=40, beta=0.4861591104177763), DriveChannel(5))), (976, Play(GaussianSquare(duration=656, amp=(-0.034928089120972776-0.001826736012731593j), sigma=64, width=400), DriveChannel(4))), (976, Play(GaussianSquare(duration=656, amp=(0.23413215649986444-0.12245186116846356j), sigma=64, width=400), ControlChannel(9))), name=\"cx\")\n",
      "\n",
      "\n",
      "\t ControlChannel(11) ct_pair(target=5, control=6)\n",
      "\n",
      "\tc_t_direction:\n",
      " Schedule((0, ShiftPhase(1.5707963267948966, DriveChannel(6))), (0, ShiftPhase(1.5707963267948966, ControlChannel(10))), (0, Play(Drag(duration=160, amp=(0.08703611831182967+0.0007723975595079783j), sigma=40, beta=0.5191721750002518), DriveChannel(5))), (0, Play(Drag(duration=160, amp=(-3.78018316032128e-17-0.2057835866337511j), sigma=40, beta=1.9850032522944732), DriveChannel(6))), (160, Play(GaussianSquare(duration=528, amp=(0.06467672227871069-0.001273764751116962j), sigma=64, width=272), DriveChannel(5))), (160, Play(GaussianSquare(duration=528, amp=(0.1396394251404549+0.41667710850146555j), sigma=64, width=272), ControlChannel(11))), (688, Play(Drag(duration=160, amp=(0.2057835866337511+0j), sigma=40, beta=1.9850032522944732), DriveChannel(6))), (848, Play(GaussianSquare(duration=528, amp=(-0.06467672227871069+0.00127376475111697j), sigma=64, width=272), DriveChannel(5))), (848, Play(GaussianSquare(duration=528, amp=(-0.13963942514045496-0.41667710850146555j), sigma=64, width=272), ControlChannel(11))), name=\"cx\")\n",
      "\n",
      "\tt_c_direction: \n",
      " Schedule((0, ShiftPhase(-3.141592653589793, DriveChannel(5))), (0, ShiftPhase(-1.5707963267948966, DriveChannel(6))), (0, ShiftPhase(-1.5707963267948966, ControlChannel(10))), (0, ShiftPhase(-3.141592653589793, ControlChannel(11))), (0, ShiftPhase(-3.141592653589793, ControlChannel(6))), (0, ShiftPhase(-3.141592653589793, ControlChannel(7))), (0, Play(Drag(duration=160, amp=(-0.0007723975595079708+0.08703611831182967j), sigma=40, beta=0.5191721750002518), DriveChannel(5))), (0, Play(Drag(duration=160, amp=(0.10250842994521533-0.0023935452256007963j), sigma=40, beta=2.032314692542638), DriveChannel(6))), (160, Play(GaussianSquare(duration=528, amp=(0.06467672227871069-0.001273764751116962j), sigma=64, width=272), DriveChannel(5))), (160, Play(GaussianSquare(duration=528, amp=(0.1396394251404549+0.41667710850146555j), sigma=64, width=272), ControlChannel(11))), (688, Play(Drag(duration=160, amp=(0.2057835866337511+0j), sigma=40, beta=1.9850032522944732), DriveChannel(6))), (848, Play(GaussianSquare(duration=528, amp=(-0.06467672227871069+0.00127376475111697j), sigma=64, width=272), DriveChannel(5))), (848, Play(GaussianSquare(duration=528, amp=(-0.13963942514045496-0.41667710850146555j), sigma=64, width=272), ControlChannel(11))), (1376, ShiftPhase(-1.5707963267948966, DriveChannel(5))), (1376, ShiftPhase(-1.5707963267948966, ControlChannel(11))), (1376, ShiftPhase(-1.5707963267948966, ControlChannel(6))), (1376, ShiftPhase(-1.5707963267948966, ControlChannel(7))), (1376, Play(Drag(duration=160, amp=(0.08703611831182967+0.0007723975595079783j), sigma=40, beta=0.5191721750002518), DriveChannel(5))), (1376, Play(Drag(duration=160, amp=(-0.0023935452256007832-0.10250842994521533j), sigma=40, beta=2.032314692542638), DriveChannel(6))), name=\"cx\")\n",
      "\n",
      "\n",
      "\t ControlChannel(11) ct_pair(target=6, control=5)\n",
      "\n",
      "\tc_t_direction:\n",
      " Schedule((0, ShiftPhase(-3.141592653589793, DriveChannel(5))), (0, ShiftPhase(-1.5707963267948966, DriveChannel(6))), (0, ShiftPhase(-1.5707963267948966, ControlChannel(10))), (0, ShiftPhase(-3.141592653589793, ControlChannel(11))), (0, ShiftPhase(-3.141592653589793, ControlChannel(6))), (0, ShiftPhase(-3.141592653589793, ControlChannel(7))), (0, Play(Drag(duration=160, amp=(-0.0007723975595079708+0.08703611831182967j), sigma=40, beta=0.5191721750002518), DriveChannel(5))), (0, Play(Drag(duration=160, amp=(0.10250842994521533-0.0023935452256007963j), sigma=40, beta=2.032314692542638), DriveChannel(6))), (160, Play(GaussianSquare(duration=528, amp=(0.06467672227871069-0.001273764751116962j), sigma=64, width=272), DriveChannel(5))), (160, Play(GaussianSquare(duration=528, amp=(0.1396394251404549+0.41667710850146555j), sigma=64, width=272), ControlChannel(11))), (688, Play(Drag(duration=160, amp=(0.2057835866337511+0j), sigma=40, beta=1.9850032522944732), DriveChannel(6))), (848, Play(GaussianSquare(duration=528, amp=(-0.06467672227871069+0.00127376475111697j), sigma=64, width=272), DriveChannel(5))), (848, Play(GaussianSquare(duration=528, amp=(-0.13963942514045496-0.41667710850146555j), sigma=64, width=272), ControlChannel(11))), (1376, ShiftPhase(-1.5707963267948966, DriveChannel(5))), (1376, ShiftPhase(-1.5707963267948966, ControlChannel(11))), (1376, ShiftPhase(-1.5707963267948966, ControlChannel(6))), (1376, ShiftPhase(-1.5707963267948966, ControlChannel(7))), (1376, Play(Drag(duration=160, amp=(0.08703611831182967+0.0007723975595079783j), sigma=40, beta=0.5191721750002518), DriveChannel(5))), (1376, Play(Drag(duration=160, amp=(-0.0023935452256007832-0.10250842994521533j), sigma=40, beta=2.032314692542638), DriveChannel(6))), name=\"cx\")\n",
      "\n",
      "\tt_c_direction: \n",
      " Schedule((0, ShiftPhase(1.5707963267948966, DriveChannel(6))), (0, ShiftPhase(1.5707963267948966, ControlChannel(10))), (0, Play(Drag(duration=160, amp=(0.08703611831182967+0.0007723975595079783j), sigma=40, beta=0.5191721750002518), DriveChannel(5))), (0, Play(Drag(duration=160, amp=(-3.78018316032128e-17-0.2057835866337511j), sigma=40, beta=1.9850032522944732), DriveChannel(6))), (160, Play(GaussianSquare(duration=528, amp=(0.06467672227871069-0.001273764751116962j), sigma=64, width=272), DriveChannel(5))), (160, Play(GaussianSquare(duration=528, amp=(0.1396394251404549+0.41667710850146555j), sigma=64, width=272), ControlChannel(11))), (688, Play(Drag(duration=160, amp=(0.2057835866337511+0j), sigma=40, beta=1.9850032522944732), DriveChannel(6))), (848, Play(GaussianSquare(duration=528, amp=(-0.06467672227871069+0.00127376475111697j), sigma=64, width=272), DriveChannel(5))), (848, Play(GaussianSquare(duration=528, amp=(-0.13963942514045496-0.41667710850146555j), sigma=64, width=272), ControlChannel(11))), name=\"cx\")\n"
     ]
    }
   ],
   "source": [
    "for pair in controlchannel_pairing_dict.values():\n",
    "    uc, crp = get_cr_chan_inst(pair.control, pair.target)\n",
    "    c_t_direction, t_c_direction = cx_pulse_instructions(pair.control, pair.target) , cx_pulse_instructions(pair.target, pair.control)\n",
    "    print(\"\\n\\n\\t\",uc,pair)\n",
    "    print(\"\\n\\tc_t_direction:\\n\",c_t_direction)\n",
    "    print(\"\\n\\tt_c_direction: \\n\", t_c_direction)"
   ]
  },
  {
   "cell_type": "code",
   "execution_count": null,
   "metadata": {},
   "outputs": [],
   "source": []
  },
  {
   "cell_type": "code",
   "execution_count": null,
   "metadata": {},
   "outputs": [],
   "source": []
  },
  {
   "cell_type": "code",
   "execution_count": null,
   "metadata": {},
   "outputs": [],
   "source": []
  },
  {
   "cell_type": "code",
   "execution_count": null,
   "metadata": {},
   "outputs": [],
   "source": []
  }
 ],
 "metadata": {
  "kernelspec": {
   "display_name": "walter",
   "language": "python",
   "name": "walter"
  },
  "language_info": {
   "codemirror_mode": {
    "name": "ipython",
    "version": 3
   },
   "file_extension": ".py",
   "mimetype": "text/x-python",
   "name": "python",
   "nbconvert_exporter": "python",
   "pygments_lexer": "ipython3",
   "version": "3.8.5"
  }
 },
 "nbformat": 4,
 "nbformat_minor": 4
}
