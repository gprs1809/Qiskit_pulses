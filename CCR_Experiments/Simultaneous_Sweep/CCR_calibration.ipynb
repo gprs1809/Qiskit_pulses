{
 "cells": [
  {
   "cell_type": "markdown",
   "metadata": {},
   "source": [
    "# 1. Calibrate both CR pulses with active cancellation and no rotary echo\n",
    "\n",
    "this CR calibration follows the CR1 (= CR calibration for un-echoed single pulse variante) experiments from: \"Qiskit Pulse: Programming Quantum Computers through the Cloud with Pulses\", repo in Resources folder"
   ]
  },
  {
   "cell_type": "code",
   "execution_count": 11,
   "metadata": {},
   "outputs": [
    {
     "name": "stderr",
     "output_type": "stream",
     "text": [
      "ibmqfactory.load_account:WARNING:2021-04-05 18:22:20,451: Credentials are already in use. The existing account in the session will be replaced.\n"
     ]
    }
   ],
   "source": [
    "from copy import deepcopy\n",
    "from functools import partial\n",
    "import numpy as np\n",
    "import matplotlib.pyplot as plt\n",
    "import multiprocessing as mp\n",
    "import scipy.optimize as opt\n",
    "from qiskit.providers.ibmq.job import job_monitor\n",
    "from qiskit.providers.jobstatus import JobStatus\n",
    "from qiskit.result import Result\n",
    "from qiskit import pulse, transpile, assemble, schedule, IBMQ, quantum_info as qi\n",
    "from qiskit.pulse.library import gaussian_square\n",
    "from qiskit.pulse.transforms import align_measures\n",
    "import pickle, pprint, qiskit, json\n",
    "import scipy.optimize as opt\n",
    "from qiskit import pulse, transpile, assemble, schedule, quantum_info as qi\n",
    "from qiskit.pulse.library import gaussian_square\n",
    "from qiskit.pulse.transforms import align_measures\n",
    "from qiskit.ignis.verification import randomized_benchmarking as rb \n",
    "from qiskit.providers.ibmq.job import job_monitor\n",
    "from qiskit.providers.jobstatus import JobStatus\n",
    "from qiskit.pulse import Play, Schedule, DriveChannel, ControlChannel, Waveform\n",
    "from qiskit.pulse.library import drag, GaussianSquare\n",
    "from qiskit.visualization import SchedStyle\n",
    "from qiskit import QuantumCircuit, Aer, IBMQ\n",
    "from qiskit.result import Result\n",
    "import qiskit\n",
    "\n",
    "# utility for pulse schedule generation\n",
    "from utils.cr_pulse_utils import create_cr_circuit, var_amp, var_phi\n",
    "\n",
    "# utility for quantum process tomography\n",
    "from utils.qpt_utils import create_qpt_experiment, extract_choi_matrix\n",
    "\n",
    "# utility for randomized benchmarking\n",
    "from utils.rb_utils import create_rb_experiment, cache_circuit\n",
    "\n",
    "# utility for analysis\n",
    "from utils.analysis_utils import (cr_3rd_order_perturbation, local_fidelity_optimization, \n",
    "                                  optimize_circuit, expectation_val, hamiltonian_reconstruction,\n",
    "                                  plot_quantum_channel, ExperimentRunner)\n",
    "\n",
    "\n",
    "from qiskit.pulse import Play, Schedule, DriveChannel, ControlChannel, Waveform\n",
    "from qiskit.pulse.library import drag, GaussianSquare\n",
    "from qiskit.visualization import SchedStyle\n",
    "from qiskit import QuantumCircuit, Aer, IBMQ\n",
    "\n",
    "provider = IBMQ.load_account()\n",
    "provider = IBMQ.get_provider(hub='ibm-q-community', group='ibmquantumawards', project='open-science')\n",
    "backend = provider.get_backend('ibmq_casablanca')\n",
    "\n",
    "# target backend\n",
    "backend_name = 'ibmq_casablanca'"
   ]
  },
  {
   "cell_type": "markdown",
   "metadata": {},
   "source": [
    "## CR calibration for control 1, target 3 "
   ]
  },
  {
   "cell_type": "code",
   "execution_count": 1,
   "metadata": {},
   "outputs": [
    {
     "data": {
      "text/plain": [
       "['2-1_a_cr1_qpts_choi_mat.npy', '2-1_b_cr1_qpts_choi_mat.npy']"
      ]
     },
     "execution_count": 1,
     "metadata": {},
     "output_type": "execute_result"
    }
   ],
   "source": [
    "# control qubit index\n",
    "q1 = 1\n",
    "control = q1\n",
    "\n",
    "# target qubit index\n",
    "q2 = 3\n",
    "target = q2\n",
    "\n",
    "# use cache data\n",
    "use_cache = False\n",
    "\n",
    "import os\n",
    "data_dir = os.getcwd() + '\\\\CR_data_c1_t3\\\\'\n",
    "#os.makedirs(data_dir)\n",
    "os.listdir(data_dir)"
   ]
  },
  {
   "cell_type": "code",
   "execution_count": 3,
   "metadata": {},
   "outputs": [
    {
     "name": "stdout",
     "output_type": "stream",
     "text": [
      "control channel index: 3\n",
      "[DriveChannel(1), DriveChannel(3), ControlChannel(3)]\n",
      "index of memory slot at which the measurement data of target qubit is stored: 1\n"
     ]
    }
   ],
   "source": [
    "########################\n",
    "#                      #\n",
    "# Setup of experiments #\n",
    "#                      #  control 1, target 3\n",
    "########################\n",
    "\n",
    "# maximum cross resonance amplitude in this experiment\n",
    "max_cr_amplitude = 0.35\n",
    "\n",
    "# sample number restriction\n",
    "alignment = 16\n",
    "\n",
    "# initial cross resonance pulse parameters\n",
    "cr_params = {'duration': 60 * alignment, 'amp': var_amp, 'phi': var_phi,\n",
    "             'sigma': 2 * alignment, 'risefall': 4 * alignment}\n",
    "\n",
    "# backend information\n",
    "config = backend.configuration()\n",
    "defaults = backend.defaults()\n",
    "properties = backend.properties()\n",
    "\n",
    "# sorted list of qubits used in the experiments\n",
    "cr_qubits = sorted([control, target])\n",
    "\n",
    "# quantum registers for handling abstracted schedule\n",
    "qregs = qiskit.QuantumRegister(config.n_qubits)\n",
    "\n",
    "# control channel index\n",
    "u_index = config.control((control, target))[0].index\n",
    "print(\"control channel index:\",u_index)\n",
    "\n",
    "# channels for visualization\n",
    "channels = [pulse.DriveChannel(control), pulse.DriveChannel(target), pulse.ControlChannel(u_index)]\n",
    "print(channels)\n",
    "\n",
    "# index of memory slot at which the measurement data of target qubit is stored\n",
    "mem_ind = 0 if control > target else 1\n",
    "print(\"index of memory slot at which the measurement data of target qubit is stored:\",mem_ind)\n",
    "\n",
    "runner = ExperimentRunner(path=data_dir, backend=backend, cached=use_cache)"
   ]
  },
  {
   "cell_type": "markdown",
   "metadata": {},
   "source": [
    "### Calibration of CR phase"
   ]
  },
  {
   "cell_type": "code",
   "execution_count": 4,
   "metadata": {},
   "outputs": [
    {
     "data": {
      "text/html": [
       "<pre style=\"word-wrap: normal;white-space: pre;background: #fff0;line-height: 1.1;font-family: &quot;Courier New&quot;,Courier,monospace\">      ┌────────────────┐┌───┐┌────────────────┐┌───┐\n",
       "q0_1: ┤0               ├┤ X ├┤0               ├┤ X ├\n",
       "      │  zx_p(amp,phi) │└───┘│  zx_m(amp,phi) │└───┘\n",
       "q0_3: ┤1               ├─────┤1               ├─────\n",
       "      └────────────────┘     └────────────────┘     </pre>"
      ],
      "text/plain": [
       "      ┌────────────────┐┌───┐┌────────────────┐┌───┐\n",
       "q0_1: ┤0               ├┤ X ├┤0               ├┤ X ├\n",
       "      │  zx_p(amp,phi) │└───┘│  zx_m(amp,phi) │└───┘\n",
       "q0_3: ┤1               ├─────┤1               ├─────\n",
       "      └────────────────┘     └────────────────┘     "
      ]
     },
     "execution_count": 4,
     "metadata": {},
     "output_type": "execute_result"
    }
   ],
   "source": [
    "# control 1, target 3\n",
    "\n",
    "shots = 1024\n",
    "\n",
    "# create QuantumCircuit layer abstraction of CR pulse schedule.\n",
    "# this technique is useful to incorporate pulse schedule with circuit instruction to\n",
    "# program complicated calibration sequence while keeping context of operation.\n",
    "cr_cal_circ, ext_inst_map, ext_basis_gates = create_cr_circuit(\n",
    "    cross_resonance_params=cr_params,\n",
    "    control=control,\n",
    "    target=target,\n",
    "    u_index=u_index,\n",
    "    q_regs=qregs,\n",
    "    inst_map=defaults.instruction_schedule_map,\n",
    "    basis_gates=config.basis_gates,\n",
    "    use_echo=True)\n",
    "\n",
    "cr_cal_circ.draw(fold=-1, idle_wires=False)"
   ]
  },
  {
   "cell_type": "code",
   "execution_count": 19,
   "metadata": {},
   "outputs": [],
   "source": [
    "# control 1, target 3\n",
    "\n",
    "cr_amps = np.linspace(-max_cr_amplitude, max_cr_amplitude, 20)\n",
    "\n",
    "# setup CR Rabi experiment with Z measurement\n",
    "cr_rabi_circ = cr_cal_circ.copy()\n",
    "cr_rabi_circ.measure_active()\n",
    "\n",
    "cr_rabi_circs = []\n",
    "for cind, cr_amp in enumerate(cr_amps):\n",
    "    fixed_cr_circ = cr_rabi_circ.bind_parameters({var_amp: cr_amp, var_phi: 0})\n",
    "    fixed_cr_circ.name = 'cr_rabi_circ_%d' % cind\n",
    "    cr_rabi_circs.append(fixed_cr_circ)\n",
    "\n",
    "transpiled_circuits = transpile(cr_rabi_circs, backend, basis_gates=ext_basis_gates, optimization_level=0)\n",
    "scheds = schedule(transpiled_circuits, backend, inst_map=ext_inst_map)\n",
    "\n",
    "qobj_1_1 = assemble(scheds, backend, meas_level=2, shots=shots)\n",
    "\n",
    "#job_1_1_c1t3 = backend.run(qobj_1_1)\n",
    "#job_1_1_c1t3.job_id()"
   ]
  },
  {
   "cell_type": "code",
   "execution_count": 20,
   "metadata": {},
   "outputs": [],
   "source": [
    "#jobid_c1t3 = \"606465113b6c04458a994ddc\"\n",
    "#job_1_1_c1t3 = backend.retrieve_job(jobid_c1t3)\n",
    "#job_monitor(job_1_1_c1t3)\n",
    "#result_1_1 = job_1_1_c1t3.result()\n",
    "\n",
    "path = data_dir + \"result_1_1_c1_t3_a.json\"\n",
    "\n",
    "#with open(path, 'w') as fp:\n",
    "#    json.dump(result_1_1.to_dict(), fp,default=str)\n",
    "    \n",
    "with open(path, 'r') as fp:\n",
    "    results_c3t1_dict = json.load(fp)\n",
    "    result_1_1 = Result.from_dict(results_c3t1_dict) "
   ]
  },
  {
   "cell_type": "code",
   "execution_count": 21,
   "metadata": {},
   "outputs": [],
   "source": [
    "def cr_fit_3rd_order_perturbation(x, c1, c2):\n",
    "    fx = c1*x - c2*x**3\n",
    "    return np.cos(2 * np.pi * fx)\n",
    "\n",
    "def rough_amp_objective(x, params, opt_phase):\n",
    "    fx = params[0] * x - params[1] * x**3\n",
    "    return np.abs(opt_phase / 2 / np.pi - fx)"
   ]
  },
  {
   "cell_type": "code",
   "execution_count": 22,
   "metadata": {},
   "outputs": [
    {
     "data": {
      "image/png": "[encoded data removed]",
      "text/plain": [
       "<Figure size 432x288 with 1 Axes>"
      ]
     },
     "metadata": {
      "needs_background": "light"
     },
     "output_type": "display_data"
    }
   ],
   "source": [
    "# control 1, target 3\n",
    "\n",
    "exp_z = np.zeros_like(cr_amps)\n",
    "for cind in range(len(cr_amps)):\n",
    "    exp_z[cind] = expectation_val(result_1_1, mem_ind=target, exp_name='cr_rabi_circ_%d' % cind)\n",
    "\n",
    "valid_inds = np.where(np.abs(cr_amps) < 0.35)[0]\n",
    "params, _ = opt.curve_fit(cr_fit_3rd_order_perturbation, xdata=cr_amps[valid_inds], ydata=exp_z[valid_inds])\n",
    "cr_pi2_amp = opt.minimize(rough_amp_objective, x0=0, bounds=[(0, 1)], args=(params, 0.5 * np.pi)).x[0]\n",
    "\n",
    "x_interp = np.linspace(cr_amps[0], cr_amps[-1], 1000)\n",
    "plt.plot(cr_amps, exp_z, 'o', color='b')\n",
    "plt.plot(x_interp, cr_fit_3rd_order_perturbation(x_interp, *params), color='b')\n",
    "plt.plot([cr_pi2_amp, cr_pi2_amp], [-1, 1], 'b:')\n",
    "plt.xlim(-max_cr_amplitude, max_cr_amplitude)\n",
    "plt.ylim(-1, 1)\n",
    "plt.xlabel('CR amp')\n",
    "plt.ylabel('<Z>')\n",
    "plt.grid()"
   ]
  },
  {
   "cell_type": "code",
   "execution_count": 23,
   "metadata": {},
   "outputs": [
    {
     "name": "stdout",
     "output_type": "stream",
     "text": [
      "0.14326554076552248\n"
     ]
    }
   ],
   "source": [
    "# control 1, target 3\n",
    "\n",
    "print(cr_pi2_amp)"
   ]
  },
  {
   "cell_type": "markdown",
   "metadata": {},
   "source": [
    "#### Phase calibration"
   ]
  },
  {
   "cell_type": "code",
   "execution_count": 24,
   "metadata": {},
   "outputs": [
    {
     "name": "stderr",
     "output_type": "stream",
     "text": [
      "C:\\ProgramData\\Anaconda3\\envs\\walter\\lib\\site-packages\\qiskit\\compiler\\assemble.py:304: RuntimeWarning: Dynamic rep rates are supported on this backend. 'rep_delay' will be used instead of 'rep_time'.\n",
      "  warnings.warn(\"Dynamic rep rates are supported on this backend. 'rep_delay' will be \"\n"
     ]
    }
   ],
   "source": [
    "# control 1, target 3\n",
    "\n",
    "cr_phases = np.linspace(-np.pi, np.pi, 20)\n",
    "\n",
    "# setup phase sweep experiment with Y measurement under control state = |0>\n",
    "cr_phase_circ0 = qiskit.QuantumCircuit(qregs)\n",
    "cr_phase_circ0 += cr_cal_circ\n",
    "cr_phase_circ0.barrier(qregs[control], qregs[target])\n",
    "cr_phase_circ0.sdg(qregs[target])\n",
    "cr_phase_circ0.h(qregs[target])\n",
    "cr_phase_circ0.measure_active()\n",
    "\n",
    "# setup phase sweep experiment with Y measurement under control state = |1>\n",
    "cr_phase_circ1 = qiskit.QuantumCircuit(qregs)\n",
    "cr_phase_circ1.x(qregs[control])\n",
    "cr_phase_circ1 += cr_cal_circ\n",
    "cr_phase_circ1.barrier(qregs[control], qregs[target])\n",
    "cr_phase_circ1.sdg(qregs[target])\n",
    "cr_phase_circ1.h(qregs[target])\n",
    "cr_phase_circ1.measure_active()\n",
    "\n",
    "cr_phase_circs = []\n",
    "for cind, cr_phase in enumerate(cr_phases):\n",
    "    # control state = 0\n",
    "    fixed_cr_circ0 = cr_phase_circ0.bind_parameters({var_amp: cr_pi2_amp, var_phi: cr_phase})\n",
    "    fixed_cr_circ0.name = 'phase_swp_%d_0' % cind\n",
    "    cr_phase_circs.append(fixed_cr_circ0)\n",
    "    # control state = 1\n",
    "    fixed_cr_circ1 = cr_phase_circ1.bind_parameters({var_amp: cr_pi2_amp, var_phi: cr_phase})\n",
    "    fixed_cr_circ1.name = 'phase_swp_%d_1' % cind\n",
    "    cr_phase_circs.append(fixed_cr_circ1)\n",
    "\n",
    "transpiled_circuits = transpile(cr_phase_circs, backend, basis_gates=ext_basis_gates, optimization_level=0)\n",
    "scheds = schedule(transpiled_circuits, backend, inst_map=ext_inst_map)\n",
    "\n",
    "qobj_1_2 = assemble(scheds, backend, meas_level=2, shots=shots)\n",
    "\n",
    "#result_1_2 = runner.run(qobj_1_2, '1-2_phi_cal')"
   ]
  },
  {
   "cell_type": "code",
   "execution_count": 25,
   "metadata": {},
   "outputs": [],
   "source": [
    "#jobid_1_2_a = \"606197116bc6ac4ad6a906fe\"\n",
    "#job_1_2_a = backend.retrieve_job(jobid_1_2_a)\n",
    "#job_1_2_a.status()\n",
    "#result_1_2 = job_1_2_a.result()\n",
    "\n",
    "jobid_1_2_b = \"605e5b6f405f5cdd5989a17f\"\n",
    "job_1_2_b = backend.retrieve_job(jobid_1_2_b)\n",
    "job_1_2_b.status()\n",
    "result_1_2 = job_1_2_b.result()\n",
    "\n",
    "path = data_dir + \"result_1_2b_c1_t3.json\"\n",
    "\n",
    "with open(path, 'w') as fp:\n",
    "    json.dump(result_1_2.to_dict(), fp,default=str)\n",
    "    \n",
    "with open(path, 'r') as fp:\n",
    "    results_c3t1_dict = json.load(fp)\n",
    "    result_1_2 = Result.from_dict(results_c3t1_dict) "
   ]
  },
  {
   "cell_type": "code",
   "execution_count": 26,
   "metadata": {},
   "outputs": [],
   "source": [
    "def cos_fit_00(x, a, b):\n",
    "    return a * np.cos(x - b + np.pi)\n",
    "\n",
    "def cos_fit_10(x, a, b):\n",
    "    return a * np.cos(x - b)"
   ]
  },
  {
   "cell_type": "code",
   "execution_count": 27,
   "metadata": {},
   "outputs": [
    {
     "data": {
      "text/plain": [
       "<matplotlib.legend.Legend at 0x1b10f74d130>"
      ]
     },
     "execution_count": 27,
     "metadata": {},
     "output_type": "execute_result"
    },
    {
     "data": {
      "image/png": "[encoded data removed]",
      "text/plain": [
       "<Figure size 432x288 with 1 Axes>"
      ]
     },
     "metadata": {
      "needs_background": "light"
     },
     "output_type": "display_data"
    }
   ],
   "source": [
    "# control 1, target 3\n",
    "\n",
    "exp_y0 = np.zeros_like(cr_phases)\n",
    "exp_y1 = np.zeros_like(cr_phases)\n",
    "\n",
    "for cind in range(len(cr_phases)):\n",
    "    exp_y0[cind] = expectation_val(result_1_2, mem_ind=mem_ind, exp_name='phase_swp_%d_0' % cind)\n",
    "    exp_y1[cind] = expectation_val(result_1_2, mem_ind=mem_ind, exp_name='phase_swp_%d_1' % cind)\n",
    "\n",
    "params0, _ = opt.curve_fit(cos_fit_00, xdata=cr_phases, ydata=exp_y0, bounds=([0, -np.pi], [1, np.pi]))\n",
    "params1, _ = opt.curve_fit(cos_fit_10, xdata=cr_phases, ydata=exp_y1, bounds=([0, -np.pi], [1, np.pi]))\n",
    "\n",
    "phi_opt = (params0[1] + params1[1]) / 2\n",
    "\n",
    "x_interp = np.linspace(cr_phases[0], cr_phases[-1], 1000)\n",
    "plt.plot(cr_phases, exp_y0, 'o', color='b', label='|00>')\n",
    "plt.plot(cr_phases, exp_y1, 'o', color='r', label='|10>')\n",
    "plt.plot(x_interp, cos_fit_00(x_interp, *params0), 'b')\n",
    "plt.plot(x_interp, cos_fit_10(x_interp, *params1), 'r')\n",
    "plt.plot([params0[1], params0[1]], [-1, 1], 'b:')\n",
    "plt.plot([params1[1], params1[1]], [-1, 1], 'r:')\n",
    "plt.xlim(cr_phases[0], cr_phases[-1])\n",
    "plt.ylim(-1, 1)\n",
    "plt.xlabel('CR phase')\n",
    "plt.ylabel('<Y>')\n",
    "plt.grid()\n",
    "plt.legend()"
   ]
  },
  {
   "cell_type": "code",
   "execution_count": 28,
   "metadata": {},
   "outputs": [
    {
     "name": "stdout",
     "output_type": "stream",
     "text": [
      "0.07814449823460476\n"
     ]
    }
   ],
   "source": [
    "# control 1, target 3\n",
    "\n",
    "print(phi_opt)\n",
    "\n",
    "# fix CR phase\n",
    "cr_params['phi'] = phi_opt"
   ]
  },
  {
   "cell_type": "markdown",
   "metadata": {},
   "source": [
    "### Amplitude sweep process tomography"
   ]
  },
  {
   "cell_type": "code",
   "execution_count": 29,
   "metadata": {},
   "outputs": [
    {
     "data": {
      "text/html": [
       "<pre style=\"word-wrap: normal;white-space: pre;background: #fff0;line-height: 1.1;font-family: &quot;Courier New&quot;,Courier,monospace\">      ┌────────────┐\n",
       "q0_1: ┤0           ├\n",
       "      │  zx_p(amp) │\n",
       "q0_3: ┤1           ├\n",
       "      └────────────┘</pre>"
      ],
      "text/plain": [
       "      ┌────────────┐\n",
       "q0_1: ┤0           ├\n",
       "      │  zx_p(amp) │\n",
       "q0_3: ┤1           ├\n",
       "      └────────────┘"
      ]
     },
     "execution_count": 29,
     "metadata": {},
     "output_type": "execute_result"
    }
   ],
   "source": [
    "# control 1, target 3\n",
    "\n",
    "shots = 2048\n",
    "\n",
    "# cross resonance amplitudes to measure process tomography\n",
    "cr_amplitudes = np.linspace(0, max_cr_amplitude, 6)\n",
    "\n",
    "# create new QuantumCircuit layer abstraction of CR1 pulse schedule.\n",
    "# this technique is necessary to work with current Ignis QPT module.\n",
    "cr1_circ, ext_inst_map_cr1, ext_basis_gates_cr1 = create_cr_circuit(\n",
    "    cross_resonance_params=cr_params,\n",
    "    control=control,\n",
    "    target=target,\n",
    "    u_index=u_index,\n",
    "    q_regs=qregs,\n",
    "    inst_map=defaults.instruction_schedule_map,\n",
    "    basis_gates=config.basis_gates,\n",
    "    use_echo=False)\n",
    "\n",
    "cr1_circ.draw(fold=-1, idle_wires=False)"
   ]
  },
  {
   "cell_type": "code",
   "execution_count": 30,
   "metadata": {},
   "outputs": [
    {
     "name": "stderr",
     "output_type": "stream",
     "text": [
      "C:\\ProgramData\\Anaconda3\\envs\\walter\\lib\\site-packages\\qiskit\\compiler\\assemble.py:304: RuntimeWarning: Dynamic rep rates are supported on this backend. 'rep_delay' will be used instead of 'rep_time'.\n",
      "  warnings.warn(\"Dynamic rep rates are supported on this backend. 'rep_delay' will be \"\n"
     ]
    }
   ],
   "source": [
    "# setup CR amplitude sweep for QPT\n",
    "qpt_cr1_circs = []\n",
    "for cr_amp in cr_amplitudes:\n",
    "    fixed_cr_circ = cr1_circ.bind_parameters({var_amp: cr_amp})\n",
    "    qpt_cr1_circs.append(fixed_cr_circ)\n",
    "\n",
    "# create QPT experiments\n",
    "qobj_2_1, qcs, meas_labels = create_qpt_experiment(\n",
    "    target_circuits=qpt_cr1_circs,\n",
    "    control=control,\n",
    "    target=target,\n",
    "    backend=backend,\n",
    "    inst_map=ext_inst_map_cr1,\n",
    "    basis_gate=ext_basis_gates_cr1,\n",
    "    shots=shots)"
   ]
  },
  {
   "cell_type": "code",
   "execution_count": 31,
   "metadata": {},
   "outputs": [],
   "source": [
    "#jobid_2_1_a = '605e5c53098cdff1051124e6'\n",
    "#job_2_1_a = backend.retrieve_job(jobid_2_1_a)\n",
    "#job_2_1_a.status()\n",
    "#result_2_1_a = job_2_1_a.result()\n",
    "\n",
    "#result_2_1 = result_2_1_a\n",
    "#cr1_chois = [choi for choi in extract_choi_matrix(result_2_1, qcs, meas_labels)]\n",
    "#np.save('%s/2-1_a_cr1_qpts_choi_mat.npy' % data_dir, [cr1_choi.data for cr1_choi in cr1_chois])"
   ]
  },
  {
   "cell_type": "code",
   "execution_count": 32,
   "metadata": {},
   "outputs": [],
   "source": [
    "#jobid_2_1_b = \"605081daac489097eb2a52ea\"\n",
    "#job_2_1_b = backend.retrieve_job(jobid_2_1_b)\n",
    "#job_2_1_b.status()\n",
    "#result_2_1_b = job_2_1_b.result()\n",
    "\n",
    "#result_2_1 = result_2_1_b\n",
    "#cr1_chois = [choi for choi in extract_choi_matrix(result_2_1, qcs, meas_labels)]\n",
    "#np.save('%s/2-1_b_cr1_qpts_choi_mat.npy' % data_dir, [cr1_choi.data for cr1_choi in cr1_chois])"
   ]
  },
  {
   "cell_type": "markdown",
   "metadata": {},
   "source": [
    "## CR calibration for control 3, target 1 "
   ]
  },
  {
   "cell_type": "code",
   "execution_count": 33,
   "metadata": {},
   "outputs": [],
   "source": [
    "# control qubit index\n",
    "q1 = 3\n",
    "control = q1\n",
    "\n",
    "# target qubit index\n",
    "q2 = 1\n",
    "target = q2\n",
    "\n",
    "# use cache data\n",
    "use_cache = False\n",
    "\n",
    "import os, json\n",
    "data_dir = os.getcwd() + '\\\\CR_data_c3_t1\\\\'\n",
    "#os.makedirs(data_dir)"
   ]
  },
  {
   "cell_type": "markdown",
   "metadata": {},
   "source": [
    "#### Calibration of CR phase"
   ]
  },
  {
   "cell_type": "code",
   "execution_count": null,
   "metadata": {},
   "outputs": [],
   "source": [
    "# control 3, target 1\n",
    "\n",
    "max_cr_amplitude = 0.35 # maximum cross resonance amplitude in E1\n",
    "alignment = 16 # sample number restriction\n",
    "\n",
    "# initial cross resonance pulse parameters E1\n",
    "cr_params = {'duration': 60 * alignment, 'amp': var_amp, 'phi': var_phi, 'sigma': 2 * alignment, 'risefall': 4 * alignment}\n",
    "\n",
    "config = backend.configuration()\n",
    "defaults = backend.defaults()\n",
    "properties = backend.properties()\n",
    "cr_qubits = sorted([control, target])\n",
    "qregs = qiskit.QuantumRegister(config.n_qubits)\n",
    "\n",
    "u_index = config.control((control, target))[0].index \n",
    "print(\"control channel index:\",u_index)\n",
    "\n",
    "channels = [pulse.DriveChannel(control), pulse.DriveChannel(target), pulse.ControlChannel(u_index)] \n",
    "print(channels)\n",
    "\n",
    "mem_ind = 0 if control > target else 1\n",
    "print(\"index of memory slot at which the measurement data of target qubit is stored:\",mem_ind)\n",
    "\n",
    "# E_1_1 CR calibration circ\n",
    "shots = 1024\n",
    "cr_cal_circ, ext_inst_map, ext_basis_gates = create_cr_circuit(\n",
    "    cross_resonance_params=cr_params,\n",
    "    control=control,\n",
    "    target=target,\n",
    "    u_index=u_index,\n",
    "    q_regs=qregs,\n",
    "    inst_map=defaults.instruction_schedule_map,\n",
    "    basis_gates=config.basis_gates,\n",
    "    use_echo=True)\n",
    "\n",
    "cr_cal_circ.draw(fold=-1, idle_wires=False)"
   ]
  },
  {
   "cell_type": "code",
   "execution_count": 35,
   "metadata": {},
   "outputs": [],
   "source": [
    "# rough amp calibration\n",
    "# control 3, target 1\n",
    "\n",
    "cr_amps = np.linspace(-max_cr_amplitude, max_cr_amplitude, 20)\n",
    "\n",
    "# setup CR Rabi experiment with Z measurement\n",
    "cr_rabi_circ = cr_cal_circ.copy()\n",
    "cr_rabi_circ.measure_active()\n",
    "\n",
    "cr_rabi_circs = []\n",
    "for cind, cr_amp in enumerate(cr_amps):\n",
    "    fixed_cr_circ = cr_rabi_circ.bind_parameters({var_amp: cr_amp, var_phi: 0})\n",
    "    fixed_cr_circ.name = 'cr_rabi_circ_%d' % cind\n",
    "    cr_rabi_circs.append(fixed_cr_circ)\n",
    "\n",
    "transpiled_circuits = transpile(cr_rabi_circs, backend, basis_gates=ext_basis_gates, optimization_level=0)\n",
    "scheds = schedule(transpiled_circuits, backend, inst_map=ext_inst_map)\n",
    "\n",
    "qobj_1_1 = assemble(scheds, backend, meas_level=2, shots=shots)\n",
    "\n",
    "#job_1_1_c3t1 = backend.run(qobj_1_1)\n",
    "#job_1_1_c3t1.job_id()"
   ]
  },
  {
   "cell_type": "code",
   "execution_count": 36,
   "metadata": {},
   "outputs": [],
   "source": [
    "jobid = '60673b3f237ef7470b84654c'\n",
    "job = backend.retrieve_job(jobid)\n",
    "#job_monitor(job)\n",
    "#result_1_1_c3_t1_b = job.result()"
   ]
  },
  {
   "cell_type": "code",
   "execution_count": null,
   "metadata": {},
   "outputs": [],
   "source": [
    "jobid = '60673b3f237ef7470b84654c'\n",
    "job = backend.retrieve_job(jobid)\n",
    "result_1_1_c3_t1_b = job.result()\n",
    "\n",
    "path = data_dir + \"result_1_1_b_c3_t1.json\"\n",
    "\n",
    "with open(path, 'w') as fp:\n",
    "    json.dump(result_1_1_c3_t1.to_dict(), fp,default=str)\n",
    "    \n",
    "with open(path, 'r') as fp:\n",
    "    results_c3t1_dict = json.load(fp)\n",
    "    result_1_1_c3_t1_b = Result.from_dict(results_c3t1_dict) "
   ]
  },
  {
   "cell_type": "code",
   "execution_count": null,
   "metadata": {},
   "outputs": [],
   "source": [
    "# control 3, target 1\n",
    "\n",
    "result_1_1 = result_1_1_c3_t1_b\n",
    "\n",
    "exp_z = np.zeros_like(cr_amps)\n",
    "for cind in range(len(cr_amps)):\n",
    "    exp_z[cind] = expectation_val(result_1_1, mem_ind=target, exp_name='cr_rabi_circ_%d' % cind)\n",
    "\n",
    "valid_inds = np.where(np.abs(cr_amps) < 0.35)[0]\n",
    "params, _ = opt.curve_fit(cr_fit_3rd_order_perturbation, xdata=cr_amps[valid_inds], ydata=exp_z[valid_inds])\n",
    "cr_pi2_amp = opt.minimize(rough_amp_objective, x0=0, bounds=[(0, 1)], args=(params, 0.5 * np.pi)).x[0]\n",
    "\n",
    "x_interp = np.linspace(cr_amps[0], cr_amps[-1], 1000)\n",
    "plt.plot(cr_amps, exp_z, 'o', color='b')\n",
    "plt.plot(x_interp, cr_fit_3rd_order_perturbation(x_interp, *params), color='b')\n",
    "plt.plot([cr_pi2_amp, cr_pi2_amp], [-1, 1], 'b:')\n",
    "plt.xlim(-max_cr_amplitude, max_cr_amplitude)\n",
    "plt.ylim(-1, 1)\n",
    "plt.xlabel('CR amp')\n",
    "plt.ylabel('<Z>')\n",
    "plt.grid()"
   ]
  },
  {
   "cell_type": "code",
   "execution_count": null,
   "metadata": {},
   "outputs": [],
   "source": [
    "# control 3, target 1\n",
    "\n",
    "print(cr_pi2_amp)"
   ]
  },
  {
   "cell_type": "code",
   "execution_count": null,
   "metadata": {},
   "outputs": [],
   "source": [
    "# control 3, target 1\n",
    "\n",
    "# E_1_2: Phase calibration\n",
    "\n",
    "cr_phases = np.linspace(-np.pi, np.pi, 20)\n",
    "\n",
    "# setup phase sweep experiment with Y measurement under control state = |0>\n",
    "cr_phase_circ0 = qiskit.QuantumCircuit(qregs)\n",
    "cr_phase_circ0 += cr_cal_circ\n",
    "cr_phase_circ0.barrier(qregs[control], qregs[target])\n",
    "cr_phase_circ0.sdg(qregs[target])\n",
    "cr_phase_circ0.h(qregs[target])\n",
    "cr_phase_circ0.measure_active()\n",
    "\n",
    "# setup phase sweep experiment with Y measurement under control state = |1>\n",
    "cr_phase_circ1 = qiskit.QuantumCircuit(qregs)\n",
    "cr_phase_circ1.x(qregs[control])\n",
    "cr_phase_circ1 += cr_cal_circ\n",
    "cr_phase_circ1.barrier(qregs[control], qregs[target])\n",
    "cr_phase_circ1.sdg(qregs[target])\n",
    "cr_phase_circ1.h(qregs[target])\n",
    "cr_phase_circ1.measure_active()\n",
    "\n",
    "cr_phase_circs = []\n",
    "for cind, cr_phase in enumerate(cr_phases):\n",
    "    # control state = 0\n",
    "    fixed_cr_circ0 = cr_phase_circ0.bind_parameters({var_amp: cr_pi2_amp, var_phi: cr_phase})\n",
    "    fixed_cr_circ0.name = 'phase_swp_%d_0' % cind\n",
    "    cr_phase_circs.append(fixed_cr_circ0)\n",
    "    # control state = 1\n",
    "    fixed_cr_circ1 = cr_phase_circ1.bind_parameters({var_amp: cr_pi2_amp, var_phi: cr_phase})\n",
    "    fixed_cr_circ1.name = 'phase_swp_%d_1' % cind\n",
    "    cr_phase_circs.append(fixed_cr_circ1)\n",
    "\n",
    "transpiled_circuits = transpile(cr_phase_circs, backend, basis_gates=ext_basis_gates, optimization_level=0)\n",
    "scheds = schedule(transpiled_circuits, backend, inst_map=ext_inst_map)\n",
    "\n",
    "qobj_1_2 = assemble(scheds, backend, meas_level=2, shots=shots)"
   ]
  },
  {
   "cell_type": "code",
   "execution_count": null,
   "metadata": {},
   "outputs": [],
   "source": [
    "# control 3, target 1\n",
    "\n",
    "jobid_1_2_a = \"60630ad1eb9d76c4493a4058\"\n",
    "job_1_2_a = backend.retrieve_job(jobid_1_2_a)\n",
    "result_1_2_a = job_1_2_a.result()\n",
    "\n",
    "path = data_dir + \"E_1_2_a_c3t1.json\"\n",
    "with open(path, 'w') as fp:\n",
    "    json.dump(result_1_2.to_dict(), fp,default=str)  \n",
    "\n",
    "with open(path, 'r') as fp:\n",
    "    results_c3t1_dict = json.load(fp)\n",
    "    result_1_2_a = Result.from_dict(results_c3t1_dict) \n",
    "      \n",
    "#jobid_1_2_b = \"605e5b6f405f5cdd5989a17f\"\n",
    "#job_1_2_b = backend.retrieve_job(jobid_1_2_b)\n",
    "#result_1_2_b = job_1_2_b.result()\n",
    "\n",
    "#path = data_dir + \"E_1_2_b_c3t1.json\"\n",
    "#with open(path, 'w') as fp:\n",
    "    #json.dump(result_1_2_b.to_dict(), fp,default=str)\n",
    "    \n",
    "#with open(path, 'r') as fp:\n",
    "    #results_c3t1_dict = json.load(fp)\n",
    "    #result_1_2_b = Result.from_dict(results_c3t1_dict) "
   ]
  },
  {
   "cell_type": "code",
   "execution_count": null,
   "metadata": {},
   "outputs": [],
   "source": [
    "# control 3, target 1\n",
    "\n",
    "result_1_2 = result_1_2_a\n",
    "exp_y0 = np.zeros_like(cr_phases)\n",
    "exp_y1 = np.zeros_like(cr_phases)\n",
    "\n",
    "for cind in range(len(cr_phases)):\n",
    "    exp_y0[cind] = expectation_val(result_1_2, mem_ind=mem_ind, exp_name='phase_swp_%d_0' % cind)\n",
    "    exp_y1[cind] = expectation_val(result_1_2, mem_ind=mem_ind, exp_name='phase_swp_%d_1' % cind)\n",
    "\n",
    "params0, _ = opt.curve_fit(cos_fit_00, xdata=cr_phases, ydata=exp_y0, bounds=([0, -np.pi], [1, np.pi]))\n",
    "params1, _ = opt.curve_fit(cos_fit_10, xdata=cr_phases, ydata=exp_y1, bounds=([0, -np.pi], [1, np.pi]))\n",
    "\n",
    "phi_opt = (params0[1] + params1[1]) / 2\n",
    "\n",
    "print(phi_opt)"
   ]
  },
  {
   "cell_type": "code",
   "execution_count": null,
   "metadata": {},
   "outputs": [],
   "source": [
    "# control 3, target 1\n",
    "\n",
    "result_1_2 = result_1_2_b\n",
    "exp_y0 = np.zeros_like(cr_phases)\n",
    "exp_y1 = np.zeros_like(cr_phases)\n",
    "\n",
    "for cind in range(len(cr_phases)):\n",
    "    exp_y0[cind] = expectation_val(result_1_2, mem_ind=mem_ind, exp_name='phase_swp_%d_0' % cind)\n",
    "    exp_y1[cind] = expectation_val(result_1_2, mem_ind=mem_ind, exp_name='phase_swp_%d_1' % cind)\n",
    "\n",
    "params0, _ = opt.curve_fit(cos_fit_00, xdata=cr_phases, ydata=exp_y0, bounds=([0, -np.pi], [1, np.pi]))\n",
    "params1, _ = opt.curve_fit(cos_fit_10, xdata=cr_phases, ydata=exp_y1, bounds=([0, -np.pi], [1, np.pi]))\n",
    "\n",
    "phi_opt = (params0[1] + params1[1]) / 2\n",
    "\n",
    "print(phi_opt)"
   ]
  },
  {
   "cell_type": "markdown",
   "metadata": {},
   "source": [
    "# 2. Cancellation tone calibration with Pauli Error Amplifying Technique"
   ]
  },
  {
   "cell_type": "code",
   "execution_count": null,
   "metadata": {},
   "outputs": [],
   "source": [
    "# apply active cancellation tone for another CR drive along with CR tone for the qubit,\n",
    "# which usually differs frequency delta/(2*pi)"
   ]
  },
  {
   "cell_type": "code",
   "execution_count": null,
   "metadata": {},
   "outputs": [],
   "source": [
    "# TBC..."
   ]
  },
  {
   "cell_type": "markdown",
   "metadata": {},
   "source": [
    "# 3. Simultaneous Sweep of both drive frequencies\n",
    "\n",
    "with both qubits in exited state while sweeping"
   ]
  },
  {
   "cell_type": "code",
   "execution_count": null,
   "metadata": {},
   "outputs": [],
   "source": [
    "# TBC..."
   ]
  },
  {
   "cell_type": "markdown",
   "metadata": {},
   "source": [
    "# 4. Calibrate CCR gate by scanning over different durations\n",
    "\n",
    "measure Cartan coefficients while sweeping CCR gate time\n",
    "\n",
    "method: quantum process tomography (QPT)"
   ]
  },
  {
   "cell_type": "code",
   "execution_count": null,
   "metadata": {},
   "outputs": [],
   "source": [
    "# TBC ..."
   ]
  }
 ],
 "metadata": {
  "kernelspec": {
   "display_name": "walter",
   "language": "python",
   "name": "walter"
  },
  "language_info": {
   "codemirror_mode": {
    "name": "ipython",
    "version": 3
   },
   "file_extension": ".py",
   "mimetype": "text/x-python",
   "name": "python",
   "nbconvert_exporter": "python",
   "pygments_lexer": "ipython3",
   "version": "3.8.5"
  }
 },
 "nbformat": 4,
 "nbformat_minor": 4
}
